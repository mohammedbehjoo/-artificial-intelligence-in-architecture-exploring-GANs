{
 "cells": [
  {
   "cell_type": "markdown",
   "metadata": {},
   "source": [
    "\n",
    "<a href=\"https://github.com/emanhamed/Houses-dataset\" target=\"_blank\">\n",
    "https://github.com/emanhamed/Houses-dataset\n",
    "</a>\n",
    "<br>\n",
    "<a href=\"https://arxiv.org/pdf/1609.08399.pdf\" target=\"_blank\">\n",
    "https://arxiv.org/pdf/1609.08399.pdf\n",
    "</a>\n",
    "    \n",
    "</p>"
   ]
  },
  {
   "cell_type": "code",
   "execution_count": 1,
   "metadata": {},
   "outputs": [],
   "source": [
    "# import the necessary packages\n",
    "from tensorflow.keras.models import Sequential\n",
    "from tensorflow.keras.layers import Dense, Dropout, Activation\n",
    "from sklearn.preprocessing import LabelBinarizer\n",
    "from sklearn.preprocessing import MinMaxScaler\n",
    "from sklearn.model_selection import train_test_split\n",
    "from tensorflow.keras.optimizers import Adam\n",
    "import pandas as pd\n",
    "import numpy as np\n",
    "import glob\n",
    "import cv2\n",
    "import os\n",
    "import locale"
   ]
  },
  {
   "cell_type": "code",
   "execution_count": 2,
   "metadata": {},
   "outputs": [
    {
     "data": {
      "text/html": [
       "<div>\n",
       "<style scoped>\n",
       "    .dataframe tbody tr th:only-of-type {\n",
       "        vertical-align: middle;\n",
       "    }\n",
       "\n",
       "    .dataframe tbody tr th {\n",
       "        vertical-align: top;\n",
       "    }\n",
       "\n",
       "    .dataframe thead th {\n",
       "        text-align: right;\n",
       "    }\n",
       "</style>\n",
       "<table border=\"1\" class=\"dataframe\">\n",
       "  <thead>\n",
       "    <tr style=\"text-align: right;\">\n",
       "      <th></th>\n",
       "      <th>bedrooms</th>\n",
       "      <th>bathrooms</th>\n",
       "      <th>area</th>\n",
       "      <th>zipcode</th>\n",
       "      <th>price</th>\n",
       "    </tr>\n",
       "  </thead>\n",
       "  <tbody>\n",
       "    <tr>\n",
       "      <th>0</th>\n",
       "      <td>4</td>\n",
       "      <td>4.0</td>\n",
       "      <td>4053</td>\n",
       "      <td>85255</td>\n",
       "      <td>869500</td>\n",
       "    </tr>\n",
       "    <tr>\n",
       "      <th>1</th>\n",
       "      <td>4</td>\n",
       "      <td>3.0</td>\n",
       "      <td>3343</td>\n",
       "      <td>36372</td>\n",
       "      <td>865200</td>\n",
       "    </tr>\n",
       "    <tr>\n",
       "      <th>2</th>\n",
       "      <td>3</td>\n",
       "      <td>4.0</td>\n",
       "      <td>3923</td>\n",
       "      <td>85266</td>\n",
       "      <td>889000</td>\n",
       "    </tr>\n",
       "    <tr>\n",
       "      <th>3</th>\n",
       "      <td>5</td>\n",
       "      <td>5.0</td>\n",
       "      <td>4022</td>\n",
       "      <td>85262</td>\n",
       "      <td>910000</td>\n",
       "    </tr>\n",
       "    <tr>\n",
       "      <th>4</th>\n",
       "      <td>3</td>\n",
       "      <td>4.0</td>\n",
       "      <td>4116</td>\n",
       "      <td>85266</td>\n",
       "      <td>971226</td>\n",
       "    </tr>\n",
       "    <tr>\n",
       "      <th>...</th>\n",
       "      <td>...</td>\n",
       "      <td>...</td>\n",
       "      <td>...</td>\n",
       "      <td>...</td>\n",
       "      <td>...</td>\n",
       "    </tr>\n",
       "    <tr>\n",
       "      <th>530</th>\n",
       "      <td>5</td>\n",
       "      <td>2.0</td>\n",
       "      <td>2066</td>\n",
       "      <td>94531</td>\n",
       "      <td>399900</td>\n",
       "    </tr>\n",
       "    <tr>\n",
       "      <th>531</th>\n",
       "      <td>4</td>\n",
       "      <td>3.5</td>\n",
       "      <td>9536</td>\n",
       "      <td>94531</td>\n",
       "      <td>460000</td>\n",
       "    </tr>\n",
       "    <tr>\n",
       "      <th>532</th>\n",
       "      <td>3</td>\n",
       "      <td>2.0</td>\n",
       "      <td>2014</td>\n",
       "      <td>94531</td>\n",
       "      <td>407000</td>\n",
       "    </tr>\n",
       "    <tr>\n",
       "      <th>533</th>\n",
       "      <td>4</td>\n",
       "      <td>3.0</td>\n",
       "      <td>2312</td>\n",
       "      <td>94531</td>\n",
       "      <td>419000</td>\n",
       "    </tr>\n",
       "    <tr>\n",
       "      <th>534</th>\n",
       "      <td>5</td>\n",
       "      <td>3.0</td>\n",
       "      <td>3796</td>\n",
       "      <td>94531</td>\n",
       "      <td>615000</td>\n",
       "    </tr>\n",
       "  </tbody>\n",
       "</table>\n",
       "<p>535 rows × 5 columns</p>\n",
       "</div>"
      ],
      "text/plain": [
       "     bedrooms  bathrooms  area  zipcode   price\n",
       "0           4        4.0  4053    85255  869500\n",
       "1           4        3.0  3343    36372  865200\n",
       "2           3        4.0  3923    85266  889000\n",
       "3           5        5.0  4022    85262  910000\n",
       "4           3        4.0  4116    85266  971226\n",
       "..        ...        ...   ...      ...     ...\n",
       "530         5        2.0  2066    94531  399900\n",
       "531         4        3.5  9536    94531  460000\n",
       "532         3        2.0  2014    94531  407000\n",
       "533         4        3.0  2312    94531  419000\n",
       "534         5        3.0  3796    94531  615000\n",
       "\n",
       "[535 rows x 5 columns]"
      ]
     },
     "execution_count": 2,
     "metadata": {},
     "output_type": "execute_result"
    }
   ],
   "source": [
    "cols = [\"bedrooms\", \"bathrooms\", \"area\", \"zipcode\", \"price\"]\n",
    "df = pd.read_csv(\"D:/college-lessons/MA/FIU/AI-workshop/dataset/Houses-dataset-master/Houses Dataset/HousesInfo.txt\", sep=\" \", header=None, names=cols)\n",
    "df"
   ]
  },
  {
   "cell_type": "code",
   "execution_count": 3,
   "metadata": {},
   "outputs": [
    {
     "data": {
      "text/html": [
       "<div>\n",
       "<style scoped>\n",
       "    .dataframe tbody tr th:only-of-type {\n",
       "        vertical-align: middle;\n",
       "    }\n",
       "\n",
       "    .dataframe tbody tr th {\n",
       "        vertical-align: top;\n",
       "    }\n",
       "\n",
       "    .dataframe thead th {\n",
       "        text-align: right;\n",
       "    }\n",
       "</style>\n",
       "<table border=\"1\" class=\"dataframe\">\n",
       "  <thead>\n",
       "    <tr style=\"text-align: right;\">\n",
       "      <th></th>\n",
       "      <th>bedrooms</th>\n",
       "      <th>bathrooms</th>\n",
       "      <th>area</th>\n",
       "      <th>zipcode</th>\n",
       "      <th>price</th>\n",
       "    </tr>\n",
       "  </thead>\n",
       "  <tbody>\n",
       "    <tr>\n",
       "      <th>0</th>\n",
       "      <td>4</td>\n",
       "      <td>4.0</td>\n",
       "      <td>4053</td>\n",
       "      <td>85255</td>\n",
       "      <td>869500</td>\n",
       "    </tr>\n",
       "    <tr>\n",
       "      <th>1</th>\n",
       "      <td>4</td>\n",
       "      <td>3.0</td>\n",
       "      <td>3343</td>\n",
       "      <td>36372</td>\n",
       "      <td>865200</td>\n",
       "    </tr>\n",
       "    <tr>\n",
       "      <th>2</th>\n",
       "      <td>3</td>\n",
       "      <td>4.0</td>\n",
       "      <td>3923</td>\n",
       "      <td>85266</td>\n",
       "      <td>889000</td>\n",
       "    </tr>\n",
       "    <tr>\n",
       "      <th>3</th>\n",
       "      <td>5</td>\n",
       "      <td>5.0</td>\n",
       "      <td>4022</td>\n",
       "      <td>85262</td>\n",
       "      <td>910000</td>\n",
       "    </tr>\n",
       "    <tr>\n",
       "      <th>4</th>\n",
       "      <td>3</td>\n",
       "      <td>4.0</td>\n",
       "      <td>4116</td>\n",
       "      <td>85266</td>\n",
       "      <td>971226</td>\n",
       "    </tr>\n",
       "  </tbody>\n",
       "</table>\n",
       "</div>"
      ],
      "text/plain": [
       "   bedrooms  bathrooms  area  zipcode   price\n",
       "0         4        4.0  4053    85255  869500\n",
       "1         4        3.0  3343    36372  865200\n",
       "2         3        4.0  3923    85266  889000\n",
       "3         5        5.0  4022    85262  910000\n",
       "4         3        4.0  4116    85266  971226"
      ]
     },
     "execution_count": 3,
     "metadata": {},
     "output_type": "execute_result"
    }
   ],
   "source": [
    "df.head()"
   ]
  },
  {
   "cell_type": "code",
   "execution_count": 4,
   "metadata": {},
   "outputs": [],
   "source": [
    "zipcodes, counts = np.unique(df[\"zipcode\"], return_counts=True)\n",
    "#dict(zip(zipcodes, counts))"
   ]
  },
  {
   "cell_type": "code",
   "execution_count": 5,
   "metadata": {},
   "outputs": [
    {
     "data": {
      "text/plain": [
       "(535, 5)"
      ]
     },
     "execution_count": 5,
     "metadata": {},
     "output_type": "execute_result"
    }
   ],
   "source": [
    "df.shape"
   ]
  },
  {
   "cell_type": "code",
   "execution_count": 6,
   "metadata": {},
   "outputs": [],
   "source": [
    "# loop over each of the unique zip codes and their corresponding\n",
    "# count\n",
    "for (zipcode, count) in zip(zipcodes, counts):\n",
    "    # the zip code counts for our housing dataset is *extremely*\n",
    "    # unbalanced (some only having 1 or 2 houses per zip code)\n",
    "    # so let's sanitize our data by removing any houses with less\n",
    "    # than 25 houses per zip code\n",
    "    if count < 25:\n",
    "        idxs = df[df[\"zipcode\"] == zipcode].index\n",
    "        df.drop(idxs, inplace=True)"
   ]
  },
  {
   "cell_type": "code",
   "execution_count": 7,
   "metadata": {},
   "outputs": [
    {
     "data": {
      "text/plain": [
       "(362, 5)"
      ]
     },
     "execution_count": 7,
     "metadata": {},
     "output_type": "execute_result"
    }
   ],
   "source": [
    "df.shape"
   ]
  },
  {
   "cell_type": "code",
   "execution_count": 8,
   "metadata": {},
   "outputs": [
    {
     "name": "stdout",
     "output_type": "stream",
     "text": [
      "(271, 5)\n",
      "(91, 5)\n"
     ]
    }
   ],
   "source": [
    "(train, test) = train_test_split(df, test_size=0.25, random_state=42)\n",
    "print(train.shape)\n",
    "print(test.shape)"
   ]
  },
  {
   "cell_type": "code",
   "execution_count": 9,
   "metadata": {},
   "outputs": [],
   "source": [
    "# find the largest house price in the training set and use it to\n",
    "# scale our house prices to the range [0, 1] (this will lead to\n",
    "# better training and convergence)\n",
    "maxPrice = train[\"price\"].max()\n",
    "trainY = train[\"price\"] / maxPrice\n",
    "testY = test[\"price\"] / maxPrice"
   ]
  },
  {
   "cell_type": "code",
   "execution_count": 10,
   "metadata": {},
   "outputs": [],
   "source": [
    "# initialize the column names of the continuous data\n",
    "continuous = [\"bedrooms\", \"bathrooms\", \"area\"]\n",
    "\n",
    "# performin min-max scaling each continuous feature column to\n",
    "# the range [0, 1]\n",
    "cs = MinMaxScaler()\n",
    "trainContinuous = cs.fit_transform(train[continuous])\n",
    "testContinuous = cs.transform(test[continuous])"
   ]
  },
  {
   "cell_type": "code",
   "execution_count": 11,
   "metadata": {},
   "outputs": [],
   "source": [
    "# one-hot encode the zip code categorical data (by definition of\n",
    "# one-hot encoing, all output features are now in the range [0, 1])\n",
    "zipBinarizer = LabelBinarizer().fit(df[\"zipcode\"])\n",
    "trainCategorical = zipBinarizer.transform(train[\"zipcode\"])\n",
    "testCategorical = zipBinarizer.transform(test[\"zipcode\"])"
   ]
  },
  {
   "cell_type": "code",
   "execution_count": 12,
   "metadata": {},
   "outputs": [
    {
     "data": {
      "text/plain": [
       "(271, 7)"
      ]
     },
     "execution_count": 12,
     "metadata": {},
     "output_type": "execute_result"
    }
   ],
   "source": [
    "trainCategorical.shape"
   ]
  },
  {
   "cell_type": "code",
   "execution_count": 13,
   "metadata": {},
   "outputs": [
    {
     "name": "stdout",
     "output_type": "stream",
     "text": [
      "(271, 10)\n",
      "(91, 10)\n"
     ]
    }
   ],
   "source": [
    "# construct our training and testing data points by concatenating\n",
    "# the categorical features with the continuous features\n",
    "trainX = np.hstack([trainCategorical, trainContinuous])\n",
    "testX = np.hstack([testCategorical, testContinuous])\n",
    "\n",
    "print(trainX.shape)\n",
    "print(testX.shape)"
   ]
  },
  {
   "cell_type": "code",
   "execution_count": 14,
   "metadata": {},
   "outputs": [],
   "source": [
    "dim = trainX.shape[1]\n",
    "# define our MLP network\n",
    "model = Sequential()\n",
    "model.add(Dense(8, input_dim=dim, activation=\"relu\"))\n",
    "model.add(Dense(4, activation=\"relu\"))\n",
    "model.add(Dense(1, activation=\"linear\"))"
   ]
  },
  {
   "cell_type": "code",
   "execution_count": 15,
   "metadata": {},
   "outputs": [],
   "source": [
    "opt = Adam(lr=1e-3, decay=1e-3 / 200)\n",
    "model.compile(loss=\"mean_absolute_percentage_error\", optimizer=opt)"
   ]
  },
  {
   "cell_type": "code",
   "execution_count": 16,
   "metadata": {},
   "outputs": [
    {
     "name": "stdout",
     "output_type": "stream",
     "text": [
      "Epoch 1/200\n",
      "34/34 [==============================] - 2s 32ms/step - loss: 454.3910 - val_loss: 154.8064\n",
      "Epoch 2/200\n",
      "34/34 [==============================] - 0s 5ms/step - loss: 126.0024 - val_loss: 91.6062\n",
      "Epoch 3/200\n",
      "34/34 [==============================] - 0s 5ms/step - loss: 76.4974 - val_loss: 83.6727\n",
      "Epoch 4/200\n",
      "34/34 [==============================] - 0s 5ms/step - loss: 75.0003 - val_loss: 76.7475\n",
      "Epoch 5/200\n",
      "34/34 [==============================] - 0s 5ms/step - loss: 68.2477 - val_loss: 70.8461\n",
      "Epoch 6/200\n",
      "34/34 [==============================] - 0s 5ms/step - loss: 72.6013 - val_loss: 64.5825\n",
      "Epoch 7/200\n",
      "34/34 [==============================] - 0s 5ms/step - loss: 58.2849 - val_loss: 59.4816\n",
      "Epoch 8/200\n",
      "34/34 [==============================] - 0s 5ms/step - loss: 51.0797 - val_loss: 59.2486\n",
      "Epoch 9/200\n",
      "34/34 [==============================] - 0s 5ms/step - loss: 49.1509 - val_loss: 51.9132\n",
      "Epoch 10/200\n",
      "34/34 [==============================] - 0s 5ms/step - loss: 53.1872 - val_loss: 49.1165\n",
      "Epoch 11/200\n",
      "34/34 [==============================] - 0s 5ms/step - loss: 42.5944 - val_loss: 49.2812\n",
      "Epoch 12/200\n",
      "34/34 [==============================] - 0s 5ms/step - loss: 46.0672 - val_loss: 45.5763\n",
      "Epoch 13/200\n",
      "34/34 [==============================] - 0s 5ms/step - loss: 41.4479 - val_loss: 43.3087\n",
      "Epoch 14/200\n",
      "34/34 [==============================] - 0s 5ms/step - loss: 39.4177 - val_loss: 35.1508\n",
      "Epoch 15/200\n",
      "34/34 [==============================] - 0s 5ms/step - loss: 30.0540 - val_loss: 33.7165\n",
      "Epoch 16/200\n",
      "34/34 [==============================] - 0s 5ms/step - loss: 31.7219 - val_loss: 33.4048\n",
      "Epoch 17/200\n",
      "34/34 [==============================] - 0s 5ms/step - loss: 31.5581 - val_loss: 32.9489\n",
      "Epoch 18/200\n",
      "34/34 [==============================] - 0s 6ms/step - loss: 30.9607 - val_loss: 31.3204\n",
      "Epoch 19/200\n",
      "34/34 [==============================] - 0s 5ms/step - loss: 35.1244 - val_loss: 30.2764\n",
      "Epoch 20/200\n",
      "34/34 [==============================] - 0s 5ms/step - loss: 37.1770 - val_loss: 30.0917\n",
      "Epoch 21/200\n",
      "34/34 [==============================] - 0s 5ms/step - loss: 29.5819 - val_loss: 29.5418\n",
      "Epoch 22/200\n",
      "34/34 [==============================] - 0s 5ms/step - loss: 31.5999 - val_loss: 28.9345\n",
      "Epoch 23/200\n",
      "34/34 [==============================] - 0s 5ms/step - loss: 32.3623 - val_loss: 29.7994\n",
      "Epoch 24/200\n",
      "34/34 [==============================] - 0s 5ms/step - loss: 28.0193 - val_loss: 27.7048\n",
      "Epoch 25/200\n",
      "34/34 [==============================] - 0s 5ms/step - loss: 28.2075 - val_loss: 28.5352\n",
      "Epoch 26/200\n",
      "34/34 [==============================] - 0s 5ms/step - loss: 30.0432 - val_loss: 28.0115\n",
      "Epoch 27/200\n",
      "34/34 [==============================] - 0s 5ms/step - loss: 25.9480 - val_loss: 29.5699\n",
      "Epoch 28/200\n",
      "34/34 [==============================] - 0s 5ms/step - loss: 23.0172 - val_loss: 27.4992\n",
      "Epoch 29/200\n",
      "34/34 [==============================] - 0s 6ms/step - loss: 22.8539 - val_loss: 28.4109\n",
      "Epoch 30/200\n",
      "34/34 [==============================] - 0s 5ms/step - loss: 21.5354 - val_loss: 25.5126\n",
      "Epoch 31/200\n",
      "34/34 [==============================] - 0s 6ms/step - loss: 24.3568 - val_loss: 25.3239\n",
      "Epoch 32/200\n",
      "34/34 [==============================] - 0s 6ms/step - loss: 24.1889 - val_loss: 26.0079\n",
      "Epoch 33/200\n",
      "34/34 [==============================] - 0s 5ms/step - loss: 23.7150 - val_loss: 26.4872\n",
      "Epoch 34/200\n",
      "34/34 [==============================] - 0s 5ms/step - loss: 25.2335 - val_loss: 27.9338\n",
      "Epoch 35/200\n",
      "34/34 [==============================] - 0s 6ms/step - loss: 27.1841 - val_loss: 24.6573\n",
      "Epoch 36/200\n",
      "34/34 [==============================] - 0s 6ms/step - loss: 26.6806 - val_loss: 25.3201\n",
      "Epoch 37/200\n",
      "34/34 [==============================] - 0s 5ms/step - loss: 23.5087 - val_loss: 23.8452\n",
      "Epoch 38/200\n",
      "34/34 [==============================] - 0s 6ms/step - loss: 26.8937 - val_loss: 24.1560\n",
      "Epoch 39/200\n",
      "34/34 [==============================] - 0s 5ms/step - loss: 24.4446 - val_loss: 22.6810\n",
      "Epoch 40/200\n",
      "34/34 [==============================] - 0s 6ms/step - loss: 22.8489 - val_loss: 22.8642\n",
      "Epoch 41/200\n",
      "34/34 [==============================] - 0s 5ms/step - loss: 22.1960 - val_loss: 22.2598\n",
      "Epoch 42/200\n",
      "34/34 [==============================] - 0s 5ms/step - loss: 22.6761 - val_loss: 23.0449\n",
      "Epoch 43/200\n",
      "34/34 [==============================] - 0s 5ms/step - loss: 23.2087 - val_loss: 23.2031\n",
      "Epoch 44/200\n",
      "34/34 [==============================] - 0s 5ms/step - loss: 24.0195 - val_loss: 22.9058\n",
      "Epoch 45/200\n",
      "34/34 [==============================] - 0s 5ms/step - loss: 22.7464 - val_loss: 23.7845\n",
      "Epoch 46/200\n",
      "34/34 [==============================] - 0s 5ms/step - loss: 20.9725 - val_loss: 24.6309\n",
      "Epoch 47/200\n",
      "34/34 [==============================] - 0s 5ms/step - loss: 26.4997 - val_loss: 22.3566\n",
      "Epoch 48/200\n",
      "34/34 [==============================] - 0s 5ms/step - loss: 20.9770 - val_loss: 21.8525\n",
      "Epoch 49/200\n",
      "34/34 [==============================] - 0s 5ms/step - loss: 23.8137 - val_loss: 24.5271\n",
      "Epoch 50/200\n",
      "34/34 [==============================] - 0s 5ms/step - loss: 21.9254 - val_loss: 24.4088\n",
      "Epoch 51/200\n",
      "34/34 [==============================] - 0s 5ms/step - loss: 23.5173 - val_loss: 24.5446\n",
      "Epoch 52/200\n",
      "34/34 [==============================] - 0s 5ms/step - loss: 21.1401 - val_loss: 23.3176\n",
      "Epoch 53/200\n",
      "34/34 [==============================] - 0s 5ms/step - loss: 20.8253 - val_loss: 24.8864\n",
      "Epoch 54/200\n",
      "34/34 [==============================] - 0s 5ms/step - loss: 21.1849 - val_loss: 21.3946\n",
      "Epoch 55/200\n",
      "34/34 [==============================] - 0s 5ms/step - loss: 24.6405 - val_loss: 23.1199\n",
      "Epoch 56/200\n",
      "34/34 [==============================] - 0s 5ms/step - loss: 24.8745 - val_loss: 21.9995\n",
      "Epoch 57/200\n",
      "34/34 [==============================] - 0s 5ms/step - loss: 26.7898 - val_loss: 21.4635\n",
      "Epoch 58/200\n",
      "34/34 [==============================] - 0s 5ms/step - loss: 23.0923 - val_loss: 25.2176\n",
      "Epoch 59/200\n",
      "34/34 [==============================] - 0s 5ms/step - loss: 25.0974 - val_loss: 24.8762\n",
      "Epoch 60/200\n",
      "34/34 [==============================] - 0s 5ms/step - loss: 24.1964 - val_loss: 25.1211\n",
      "Epoch 61/200\n",
      "34/34 [==============================] - 0s 5ms/step - loss: 24.5954 - val_loss: 23.7708\n",
      "Epoch 62/200\n",
      "34/34 [==============================] - 0s 5ms/step - loss: 21.0887 - val_loss: 21.7134\n",
      "Epoch 63/200\n",
      "34/34 [==============================] - 0s 5ms/step - loss: 20.8238 - val_loss: 24.6807\n",
      "Epoch 64/200\n",
      "34/34 [==============================] - 0s 5ms/step - loss: 21.8025 - val_loss: 28.8539\n",
      "Epoch 65/200\n",
      "34/34 [==============================] - 0s 5ms/step - loss: 22.6760 - val_loss: 21.2119\n",
      "Epoch 66/200\n",
      "34/34 [==============================] - 0s 5ms/step - loss: 20.6784 - val_loss: 23.0694\n",
      "Epoch 67/200\n",
      "34/34 [==============================] - 0s 5ms/step - loss: 24.2640 - val_loss: 21.2188\n",
      "Epoch 68/200\n",
      "34/34 [==============================] - 0s 5ms/step - loss: 21.8020 - val_loss: 22.5066\n",
      "Epoch 69/200\n",
      "34/34 [==============================] - 0s 5ms/step - loss: 20.6361 - val_loss: 22.7663\n",
      "Epoch 70/200\n",
      "34/34 [==============================] - 0s 5ms/step - loss: 19.8839 - val_loss: 22.8830\n",
      "Epoch 71/200\n",
      "34/34 [==============================] - 0s 5ms/step - loss: 19.6494 - val_loss: 24.2405\n",
      "Epoch 72/200\n",
      "34/34 [==============================] - 0s 5ms/step - loss: 21.5628 - val_loss: 22.6331\n",
      "Epoch 73/200\n",
      "34/34 [==============================] - 0s 6ms/step - loss: 21.2044 - val_loss: 21.2261\n",
      "Epoch 74/200\n",
      "34/34 [==============================] - 0s 5ms/step - loss: 22.7562 - val_loss: 21.1117\n",
      "Epoch 75/200\n",
      "34/34 [==============================] - 0s 5ms/step - loss: 25.0050 - val_loss: 21.0845\n",
      "Epoch 76/200\n",
      "34/34 [==============================] - 0s 5ms/step - loss: 22.7512 - val_loss: 21.5582\n",
      "Epoch 77/200\n",
      "34/34 [==============================] - 0s 5ms/step - loss: 19.8217 - val_loss: 21.7484\n",
      "Epoch 78/200\n",
      "34/34 [==============================] - 0s 5ms/step - loss: 19.8163 - val_loss: 21.7667\n",
      "Epoch 79/200\n",
      "34/34 [==============================] - 0s 5ms/step - loss: 19.5888 - val_loss: 21.0881\n",
      "Epoch 80/200\n",
      "34/34 [==============================] - 0s 5ms/step - loss: 19.3502 - val_loss: 21.1634\n",
      "Epoch 81/200\n",
      "34/34 [==============================] - 0s 5ms/step - loss: 21.5891 - val_loss: 21.9679\n",
      "Epoch 82/200\n",
      "34/34 [==============================] - 0s 5ms/step - loss: 21.4573 - val_loss: 22.6900\n",
      "Epoch 83/200\n",
      "34/34 [==============================] - 0s 5ms/step - loss: 23.4833 - val_loss: 21.5276\n",
      "Epoch 84/200\n",
      "34/34 [==============================] - 0s 5ms/step - loss: 20.5832 - val_loss: 22.2534\n",
      "Epoch 85/200\n",
      "34/34 [==============================] - 0s 5ms/step - loss: 20.9279 - val_loss: 20.9986\n",
      "Epoch 86/200\n",
      "34/34 [==============================] - 0s 5ms/step - loss: 21.0841 - val_loss: 23.8714\n",
      "Epoch 87/200\n",
      "34/34 [==============================] - 0s 5ms/step - loss: 21.6722 - val_loss: 21.3325\n",
      "Epoch 88/200\n",
      "34/34 [==============================] - 0s 5ms/step - loss: 23.3929 - val_loss: 21.8515\n",
      "Epoch 89/200\n",
      "34/34 [==============================] - 0s 5ms/step - loss: 23.1164 - val_loss: 23.3788\n",
      "Epoch 90/200\n",
      "34/34 [==============================] - 0s 6ms/step - loss: 28.2377 - val_loss: 22.9489\n",
      "Epoch 91/200\n",
      "34/34 [==============================] - 0s 9ms/step - loss: 21.3077 - val_loss: 22.3015\n",
      "Epoch 92/200\n",
      "34/34 [==============================] - 0s 5ms/step - loss: 21.0537 - val_loss: 23.5800\n",
      "Epoch 93/200\n",
      "34/34 [==============================] - 0s 5ms/step - loss: 27.8190 - val_loss: 22.4887\n",
      "Epoch 94/200\n",
      "34/34 [==============================] - 0s 6ms/step - loss: 23.4784 - val_loss: 21.1798\n",
      "Epoch 95/200\n",
      "34/34 [==============================] - 0s 5ms/step - loss: 22.7033 - val_loss: 28.5737\n",
      "Epoch 96/200\n",
      "34/34 [==============================] - 0s 5ms/step - loss: 24.9377 - val_loss: 22.8155\n",
      "Epoch 97/200\n",
      "34/34 [==============================] - 0s 5ms/step - loss: 20.5370 - val_loss: 21.8821\n",
      "Epoch 98/200\n",
      "34/34 [==============================] - 0s 5ms/step - loss: 19.5820 - val_loss: 21.5599\n",
      "Epoch 99/200\n",
      "34/34 [==============================] - 0s 5ms/step - loss: 19.6537 - val_loss: 22.1636\n",
      "Epoch 100/200\n",
      "34/34 [==============================] - 0s 5ms/step - loss: 22.7720 - val_loss: 22.1465\n",
      "Epoch 101/200\n",
      "34/34 [==============================] - 0s 5ms/step - loss: 21.0374 - val_loss: 25.5578\n",
      "Epoch 102/200\n",
      "34/34 [==============================] - 0s 5ms/step - loss: 22.1173 - val_loss: 23.1246\n",
      "Epoch 103/200\n",
      "34/34 [==============================] - 0s 5ms/step - loss: 19.1621 - val_loss: 23.3410\n",
      "Epoch 104/200\n",
      "34/34 [==============================] - 0s 5ms/step - loss: 21.6319 - val_loss: 22.1219\n",
      "Epoch 105/200\n",
      "34/34 [==============================] - 0s 5ms/step - loss: 20.0965 - val_loss: 21.7200\n",
      "Epoch 106/200\n",
      "34/34 [==============================] - 0s 5ms/step - loss: 20.9847 - val_loss: 21.3970\n",
      "Epoch 107/200\n",
      "34/34 [==============================] - 0s 5ms/step - loss: 20.6136 - val_loss: 22.2214\n",
      "Epoch 108/200\n",
      "34/34 [==============================] - 0s 5ms/step - loss: 22.3867 - val_loss: 21.9121\n",
      "Epoch 109/200\n",
      "34/34 [==============================] - 0s 5ms/step - loss: 19.7310 - val_loss: 21.4693\n",
      "Epoch 110/200\n",
      "34/34 [==============================] - 0s 5ms/step - loss: 21.9264 - val_loss: 23.1786\n",
      "Epoch 111/200\n",
      "34/34 [==============================] - 0s 5ms/step - loss: 18.9326 - val_loss: 21.5877\n",
      "Epoch 112/200\n",
      "34/34 [==============================] - 0s 5ms/step - loss: 19.0582 - val_loss: 22.0487\n",
      "Epoch 113/200\n",
      "34/34 [==============================] - 0s 5ms/step - loss: 20.9070 - val_loss: 21.8748\n",
      "Epoch 114/200\n",
      "34/34 [==============================] - 0s 4ms/step - loss: 20.4900 - val_loss: 22.4736\n",
      "Epoch 115/200\n",
      "34/34 [==============================] - 0s 5ms/step - loss: 21.9949 - val_loss: 22.9468\n",
      "Epoch 116/200\n",
      "34/34 [==============================] - 0s 5ms/step - loss: 20.6178 - val_loss: 22.9930\n",
      "Epoch 117/200\n",
      "34/34 [==============================] - 0s 5ms/step - loss: 19.0592 - val_loss: 21.7753\n",
      "Epoch 118/200\n",
      "34/34 [==============================] - 0s 5ms/step - loss: 21.3562 - val_loss: 21.5910\n",
      "Epoch 119/200\n",
      "34/34 [==============================] - 0s 5ms/step - loss: 20.7633 - val_loss: 22.7608\n",
      "Epoch 120/200\n",
      "34/34 [==============================] - 0s 5ms/step - loss: 21.1224 - val_loss: 22.7991\n",
      "Epoch 121/200\n",
      "34/34 [==============================] - ETA: 0s - loss: 24.65 - 0s 5ms/step - loss: 24.3094 - val_loss: 22.2191\n",
      "Epoch 122/200\n",
      "34/34 [==============================] - 0s 5ms/step - loss: 20.8116 - val_loss: 25.7440\n",
      "Epoch 123/200\n",
      "34/34 [==============================] - 0s 5ms/step - loss: 22.3596 - val_loss: 23.7281\n",
      "Epoch 124/200\n",
      "34/34 [==============================] - 0s 5ms/step - loss: 20.5075 - val_loss: 22.4775\n",
      "Epoch 125/200\n",
      "34/34 [==============================] - 0s 5ms/step - loss: 25.7221 - val_loss: 22.9667\n",
      "Epoch 126/200\n",
      "34/34 [==============================] - 0s 5ms/step - loss: 18.9476 - val_loss: 23.3855\n",
      "Epoch 127/200\n",
      "34/34 [==============================] - 0s 5ms/step - loss: 19.9151 - val_loss: 24.2831\n",
      "Epoch 128/200\n",
      "34/34 [==============================] - 0s 5ms/step - loss: 20.5033 - val_loss: 22.2777\n",
      "Epoch 129/200\n",
      "34/34 [==============================] - 0s 5ms/step - loss: 18.4966 - val_loss: 22.7058\n",
      "Epoch 130/200\n",
      "34/34 [==============================] - 0s 5ms/step - loss: 20.0058 - val_loss: 22.0745\n",
      "Epoch 131/200\n",
      "34/34 [==============================] - 0s 5ms/step - loss: 19.9382 - val_loss: 23.2259\n",
      "Epoch 132/200\n",
      "34/34 [==============================] - 0s 5ms/step - loss: 23.2509 - val_loss: 22.2062\n",
      "Epoch 133/200\n",
      "34/34 [==============================] - 0s 5ms/step - loss: 21.5394 - val_loss: 21.7073\n",
      "Epoch 134/200\n",
      "34/34 [==============================] - 0s 5ms/step - loss: 21.8509 - val_loss: 22.2223\n",
      "Epoch 135/200\n",
      "34/34 [==============================] - 0s 5ms/step - loss: 20.5769 - val_loss: 26.6682\n",
      "Epoch 136/200\n",
      "34/34 [==============================] - 0s 5ms/step - loss: 21.3347 - val_loss: 21.8749\n",
      "Epoch 137/200\n",
      "34/34 [==============================] - 0s 5ms/step - loss: 19.5182 - val_loss: 22.8241\n",
      "Epoch 138/200\n",
      "34/34 [==============================] - 0s 5ms/step - loss: 19.5734 - val_loss: 22.2163\n",
      "Epoch 139/200\n",
      "34/34 [==============================] - 0s 5ms/step - loss: 18.8321 - val_loss: 23.1358\n",
      "Epoch 140/200\n",
      "34/34 [==============================] - 0s 5ms/step - loss: 20.5730 - val_loss: 22.6873\n",
      "Epoch 141/200\n",
      "34/34 [==============================] - 0s 5ms/step - loss: 20.9548 - val_loss: 22.6504\n",
      "Epoch 142/200\n",
      "34/34 [==============================] - 0s 5ms/step - loss: 20.4108 - val_loss: 22.6917\n",
      "Epoch 143/200\n",
      "34/34 [==============================] - 0s 5ms/step - loss: 19.5098 - val_loss: 24.6420\n",
      "Epoch 144/200\n",
      "34/34 [==============================] - 0s 5ms/step - loss: 22.1392 - val_loss: 22.8094\n",
      "Epoch 145/200\n",
      "34/34 [==============================] - 0s 5ms/step - loss: 19.8027 - val_loss: 24.3285\n",
      "Epoch 146/200\n",
      "34/34 [==============================] - 0s 5ms/step - loss: 21.1886 - val_loss: 24.1120\n",
      "Epoch 147/200\n",
      "34/34 [==============================] - 0s 5ms/step - loss: 23.4934 - val_loss: 24.6876\n",
      "Epoch 148/200\n",
      "34/34 [==============================] - 0s 5ms/step - loss: 21.7537 - val_loss: 24.1035\n",
      "Epoch 149/200\n",
      "34/34 [==============================] - 0s 5ms/step - loss: 22.4245 - val_loss: 25.3422\n",
      "Epoch 150/200\n",
      "34/34 [==============================] - 0s 5ms/step - loss: 19.8151 - val_loss: 23.6440\n",
      "Epoch 151/200\n",
      "34/34 [==============================] - 0s 5ms/step - loss: 22.9382 - val_loss: 23.4634\n",
      "Epoch 152/200\n",
      "34/34 [==============================] - 0s 5ms/step - loss: 19.7720 - val_loss: 22.6884\n",
      "Epoch 153/200\n",
      "34/34 [==============================] - 0s 5ms/step - loss: 19.8606 - val_loss: 22.8871\n",
      "Epoch 154/200\n",
      "34/34 [==============================] - 0s 5ms/step - loss: 20.8260 - val_loss: 22.4724\n",
      "Epoch 155/200\n",
      "34/34 [==============================] - 0s 5ms/step - loss: 18.8619 - val_loss: 23.7799\n",
      "Epoch 156/200\n",
      "34/34 [==============================] - 0s 5ms/step - loss: 20.2243 - val_loss: 24.0802\n",
      "Epoch 157/200\n",
      "34/34 [==============================] - 0s 5ms/step - loss: 20.5179 - val_loss: 22.7515\n",
      "Epoch 158/200\n",
      "34/34 [==============================] - 0s 5ms/step - loss: 20.5403 - val_loss: 22.6081\n",
      "Epoch 159/200\n",
      "34/34 [==============================] - 0s 5ms/step - loss: 21.2840 - val_loss: 21.4860\n",
      "Epoch 160/200\n"
     ]
    },
    {
     "name": "stdout",
     "output_type": "stream",
     "text": [
      "34/34 [==============================] - 0s 5ms/step - loss: 21.6638 - val_loss: 23.4061\n",
      "Epoch 161/200\n",
      "34/34 [==============================] - 0s 5ms/step - loss: 24.3166 - val_loss: 22.6870\n",
      "Epoch 162/200\n",
      "34/34 [==============================] - 0s 5ms/step - loss: 19.8786 - val_loss: 23.5650\n",
      "Epoch 163/200\n",
      "34/34 [==============================] - 0s 5ms/step - loss: 19.3214 - val_loss: 24.1160\n",
      "Epoch 164/200\n",
      "34/34 [==============================] - 0s 5ms/step - loss: 20.8507 - val_loss: 22.5554\n",
      "Epoch 165/200\n",
      "34/34 [==============================] - 0s 5ms/step - loss: 19.3159 - val_loss: 24.6889\n",
      "Epoch 166/200\n",
      "34/34 [==============================] - 0s 5ms/step - loss: 21.6185 - val_loss: 24.6432\n",
      "Epoch 167/200\n",
      "34/34 [==============================] - 0s 5ms/step - loss: 22.3426 - val_loss: 26.1673\n",
      "Epoch 168/200\n",
      "34/34 [==============================] - 0s 5ms/step - loss: 21.3524 - val_loss: 23.5960\n",
      "Epoch 169/200\n",
      "34/34 [==============================] - 0s 5ms/step - loss: 19.5319 - val_loss: 23.2054\n",
      "Epoch 170/200\n",
      "34/34 [==============================] - 0s 5ms/step - loss: 19.9543 - val_loss: 22.6304\n",
      "Epoch 171/200\n",
      "34/34 [==============================] - 0s 5ms/step - loss: 19.1867 - val_loss: 23.3347\n",
      "Epoch 172/200\n",
      "34/34 [==============================] - 0s 5ms/step - loss: 20.1168 - val_loss: 23.6335\n",
      "Epoch 173/200\n",
      "34/34 [==============================] - 0s 5ms/step - loss: 19.6893 - val_loss: 21.7603\n",
      "Epoch 174/200\n",
      "34/34 [==============================] - 0s 5ms/step - loss: 22.0468 - val_loss: 22.7350\n",
      "Epoch 175/200\n",
      "34/34 [==============================] - 0s 5ms/step - loss: 19.9162 - val_loss: 22.9265\n",
      "Epoch 176/200\n",
      "34/34 [==============================] - 0s 5ms/step - loss: 19.4485 - val_loss: 24.2973\n",
      "Epoch 177/200\n",
      "34/34 [==============================] - 0s 5ms/step - loss: 23.4110 - val_loss: 24.1269\n",
      "Epoch 178/200\n",
      "34/34 [==============================] - 0s 5ms/step - loss: 19.0735 - val_loss: 24.1363\n",
      "Epoch 179/200\n",
      "34/34 [==============================] - 0s 5ms/step - loss: 18.7097 - val_loss: 23.0741\n",
      "Epoch 180/200\n",
      "34/34 [==============================] - 0s 5ms/step - loss: 20.4039 - val_loss: 22.9168\n",
      "Epoch 181/200\n",
      "34/34 [==============================] - 0s 5ms/step - loss: 18.2105 - val_loss: 24.1940\n",
      "Epoch 182/200\n",
      "34/34 [==============================] - 0s 5ms/step - loss: 19.5298 - val_loss: 24.2238\n",
      "Epoch 183/200\n",
      "34/34 [==============================] - 0s 5ms/step - loss: 19.2334 - val_loss: 23.1826\n",
      "Epoch 184/200\n",
      "34/34 [==============================] - 0s 5ms/step - loss: 20.6341 - val_loss: 23.8516\n",
      "Epoch 185/200\n",
      "34/34 [==============================] - 0s 5ms/step - loss: 18.3575 - val_loss: 22.5316\n",
      "Epoch 186/200\n",
      "34/34 [==============================] - 0s 5ms/step - loss: 18.7454 - val_loss: 25.2199\n",
      "Epoch 187/200\n",
      "34/34 [==============================] - 0s 5ms/step - loss: 19.4712 - val_loss: 22.7297\n",
      "Epoch 188/200\n",
      "34/34 [==============================] - 0s 5ms/step - loss: 19.5400 - val_loss: 23.1764\n",
      "Epoch 189/200\n",
      "34/34 [==============================] - 0s 5ms/step - loss: 19.0112 - val_loss: 25.1146\n",
      "Epoch 190/200\n",
      "34/34 [==============================] - 0s 5ms/step - loss: 19.1917 - val_loss: 23.7938\n",
      "Epoch 191/200\n",
      "34/34 [==============================] - 0s 5ms/step - loss: 18.1165 - val_loss: 23.7498\n",
      "Epoch 192/200\n",
      "34/34 [==============================] - 0s 5ms/step - loss: 20.2538 - val_loss: 23.2314\n",
      "Epoch 193/200\n",
      "34/34 [==============================] - 0s 5ms/step - loss: 20.6888 - val_loss: 22.6218\n",
      "Epoch 194/200\n",
      "34/34 [==============================] - 0s 5ms/step - loss: 22.3038 - val_loss: 21.6382\n",
      "Epoch 195/200\n",
      "34/34 [==============================] - 0s 5ms/step - loss: 19.3762 - val_loss: 21.2554\n",
      "Epoch 196/200\n",
      "34/34 [==============================] - 0s 5ms/step - loss: 22.1323 - val_loss: 23.3769\n",
      "Epoch 197/200\n",
      "34/34 [==============================] - 0s 5ms/step - loss: 19.3232 - val_loss: 22.2428\n",
      "Epoch 198/200\n",
      "34/34 [==============================] - 0s 5ms/step - loss: 18.7765 - val_loss: 23.9215\n",
      "Epoch 199/200\n",
      "34/34 [==============================] - 0s 5ms/step - loss: 18.2392 - val_loss: 23.3407\n",
      "Epoch 200/200\n",
      "34/34 [==============================] - 0s 5ms/step - loss: 21.7302 - val_loss: 23.7815\n"
     ]
    },
    {
     "data": {
      "text/plain": [
       "<tensorflow.python.keras.callbacks.History at 0x16ec2164970>"
      ]
     },
     "execution_count": 16,
     "metadata": {},
     "output_type": "execute_result"
    }
   ],
   "source": [
    "model.fit(trainX, trainY, validation_data=(testX, testY),\n",
    "    epochs=200, batch_size=8)"
   ]
  },
  {
   "cell_type": "code",
   "execution_count": 17,
   "metadata": {},
   "outputs": [
    {
     "data": {
      "text/plain": [
       "(91,)"
      ]
     },
     "execution_count": 17,
     "metadata": {},
     "output_type": "execute_result"
    }
   ],
   "source": [
    "preds = model.predict(testX)\n",
    "preds.shape\n",
    "testY.shape\n",
    "preds.flatten().shape"
   ]
  },
  {
   "cell_type": "code",
   "execution_count": 18,
   "metadata": {},
   "outputs": [
    {
     "name": "stdout",
     "output_type": "stream",
     "text": [
      "avg. house price: $533,388.27, std house price: $493,403.08\n",
      "mean: 23.78%, std: 23.78%\n"
     ]
    }
   ],
   "source": [
    "# make predictions on the testing data\n",
    "preds = model.predict(testX)\n",
    " \n",
    "# compute the difference between the *predicted* house prices and the\n",
    "# *actual* house prices, then compute the percentage difference and\n",
    "# the absolute percentage difference\n",
    "diff = preds.flatten() - testY\n",
    "percentDiff = (diff / testY) * 100\n",
    "absPercentDiff = np.abs(percentDiff)\n",
    " \n",
    "# compute the mean and standard deviation of the absolute percentage\n",
    "# difference\n",
    "mean = np.mean(absPercentDiff)\n",
    "std = np.std(absPercentDiff)\n",
    " \n",
    "# finally, show some statistics on our model\n",
    "locale.setlocale(locale.LC_ALL, \"en_US.UTF-8\")\n",
    "print(\"avg. house price: {}, std house price: {}\".format(\n",
    "    locale.currency(df[\"price\"].mean(), grouping=True),\n",
    "    locale.currency(df[\"price\"].std(), grouping=True)))\n",
    "print(\"mean: {:.2f}%, std: {:.2f}%\".format(mean, std))"
   ]
  },
  {
   "cell_type": "markdown",
   "metadata": {},
   "source": [
    "## reference \n",
    "\n",
    "https://www.pyimagesearch.com/2019/01/21/regression-with-keras/"
   ]
  },
  {
   "cell_type": "markdown",
   "metadata": {},
   "source": [
    "## Contact me"
   ]
  },
  {
   "cell_type": "markdown",
   "metadata": {},
   "source": [
    "### LinkedIn Account\n",
    "https://www.linkedin.com/in/mohammed-behjoo-446098b7/\n",
    "\n",
    "\n",
    "### YouTube Channel\n",
    "https://www.youtube.com/channel/UCudI0gvPh-YbiY2zLM7im-w\n",
    "\n",
    "\n",
    "### GitHub\n",
    "https://github.com/mohammedbehjoo"
   ]
  }
 ],
 "metadata": {
  "anaconda-cloud": {},
  "kernelspec": {
   "display_name": "Python [conda env:.conda-tf24]",
   "language": "python",
   "name": "conda-env-.conda-tf24-py"
  },
  "language_info": {
   "codemirror_mode": {
    "name": "ipython",
    "version": 3
   },
   "file_extension": ".py",
   "mimetype": "text/x-python",
   "name": "python",
   "nbconvert_exporter": "python",
   "pygments_lexer": "ipython3",
   "version": "3.8.5"
  },
  "nbpresent": {
   "slides": {
    "300ee14f-a043-486e-b274-7ff253907cd7": {
     "id": "300ee14f-a043-486e-b274-7ff253907cd7",
     "prev": "cb74e0bc-4513-4d13-b7f1-14c3078a7927",
     "regions": {
      "26dc3f39-a230-447c-af4c-f5e5b2fb7835": {
       "attrs": {
        "height": 0.8,
        "width": 0.8,
        "x": 0.1,
        "y": 0.1
       },
       "content": {
        "cell": "c58440a5-3f8f-4f37-9c79-6bf766209406",
        "part": "whole"
       },
       "id": "26dc3f39-a230-447c-af4c-f5e5b2fb7835"
      }
     }
    },
    "878aa53a-1444-4100-8f50-7a408191c579": {
     "id": "878aa53a-1444-4100-8f50-7a408191c579",
     "prev": null,
     "regions": {
      "a6c6843a-5ea6-4fbc-b890-3b4b8ae475b3": {
       "attrs": {
        "height": 0.8,
        "width": 0.8,
        "x": 0.1,
        "y": 0.1
       },
       "content": {
        "cell": "588ee1fa-64b5-453b-ade7-8e6b2515821c",
        "part": "whole"
       },
       "id": "a6c6843a-5ea6-4fbc-b890-3b4b8ae475b3"
      }
     }
    },
    "96ffe88e-7b50-43de-afdd-942e564f4e3e": {
     "id": "96ffe88e-7b50-43de-afdd-942e564f4e3e",
     "prev": "878aa53a-1444-4100-8f50-7a408191c579",
     "regions": {
      "b7e52e12-489a-468d-b10c-af2024fd2856": {
       "attrs": {
        "height": 0.8,
        "width": 0.8,
        "x": 0.1,
        "y": 0.1
       },
       "content": {
        "cell": "de829a92-1fb6-44ad-a2c6-fc1001e1f6e1",
        "part": "whole"
       },
       "id": "b7e52e12-489a-468d-b10c-af2024fd2856"
      }
     }
    },
    "cb74e0bc-4513-4d13-b7f1-14c3078a7927": {
     "id": "cb74e0bc-4513-4d13-b7f1-14c3078a7927",
     "prev": "96ffe88e-7b50-43de-afdd-942e564f4e3e",
     "regions": {
      "444878ee-68f3-4abb-acff-a7079b21e86d": {
       "attrs": {
        "height": 0.8,
        "width": 0.8,
        "x": 0.1,
        "y": 0.1
       },
       "content": {
        "cell": "25f3f538-1ee8-4d98-a6bb-14cbeb7a702d",
        "part": "whole"
       },
       "id": "444878ee-68f3-4abb-acff-a7079b21e86d"
      }
     }
    }
   },
   "themes": {}
  }
 },
 "nbformat": 4,
 "nbformat_minor": 1
}
