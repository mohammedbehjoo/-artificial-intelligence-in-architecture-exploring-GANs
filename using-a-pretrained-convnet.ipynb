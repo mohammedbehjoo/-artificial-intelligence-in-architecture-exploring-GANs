{
 "cells": [
  {
   "cell_type": "code",
   "execution_count": 1,
   "metadata": {},
   "outputs": [
    {
     "data": {
      "text/plain": [
       "'2.4.0'"
      ]
     },
     "execution_count": 1,
     "metadata": {},
     "output_type": "execute_result"
    }
   ],
   "source": [
    "from tensorflow import keras\n",
    "keras.__version__"
   ]
  },
  {
   "cell_type": "markdown",
   "metadata": {},
   "source": [
    "## Feature extraction\n",
    "\n",
    "\n",
    "![swapping FC classifiers](https://s3.amazonaws.com/book.keras.io/img/ch5/swapping_fc_classifier.png)\n"
   ]
  },
  {
   "cell_type": "markdown",
   "metadata": {},
   "source": [
    "Let's put this in practice by using the convolutional base of the VGG16 network, trained on ImageNet, to extract interesting features from \n",
    "our cat and dog images, and then training a cat vs. dog classifier on top of these features.\n",
    "\n",
    "The VGG16 model, among others, comes pre-packaged with Keras. You can import it from the `keras.applications` module. Here's the list of \n",
    "image classification models (all pre-trained on the ImageNet dataset) that are available as part of `keras.applications`:\n",
    "\n",
    "* Xception\n",
    "* InceptionV3\n",
    "* ResNet50\n",
    "* VGG16\n",
    "* VGG19\n",
    "* MobileNet\n",
    "\n",
    "Let's instantiate the VGG16 model:"
   ]
  },
  {
   "cell_type": "code",
   "execution_count": 4,
   "metadata": {},
   "outputs": [],
   "source": [
    "from tensorflow.keras.applications import VGG16\n",
    "\n",
    "conv_base = VGG16(weights='imagenet',\n",
    "                  include_top=False,\n",
    "                  input_shape=(150, 150, 3))"
   ]
  },
  {
   "cell_type": "markdown",
   "metadata": {},
   "source": [
    "We passed three arguments to the constructor:\n",
    "\n",
    "* `weights`, to specify which weight checkpoint to initialize the model from\n",
    "* `include_top`, which refers to including or not the densely-connected classifier on top of the network. By default, this \n",
    "densely-connected classifier would correspond to the 1000 classes from ImageNet. Since we intend to use our own densely-connected \n",
    "classifier (with only two classes, cat and dog), we don't need to include it.\n",
    "* `input_shape`, the shape of the image tensors that we will feed to the network. This argument is purely optional: if we don't pass it, \n",
    "then the network will be able to process inputs of any size.\n",
    "\n",
    "Here's the detail of the architecture of the VGG16 convolutional base: it's very similar to the simple convnets that you are already \n",
    "familiar with."
   ]
  },
  {
   "cell_type": "code",
   "execution_count": 5,
   "metadata": {},
   "outputs": [
    {
     "name": "stdout",
     "output_type": "stream",
     "text": [
      "Model: \"vgg16\"\n",
      "_________________________________________________________________\n",
      "Layer (type)                 Output Shape              Param #   \n",
      "=================================================================\n",
      "input_1 (InputLayer)         [(None, 150, 150, 3)]     0         \n",
      "_________________________________________________________________\n",
      "block1_conv1 (Conv2D)        (None, 150, 150, 64)      1792      \n",
      "_________________________________________________________________\n",
      "block1_conv2 (Conv2D)        (None, 150, 150, 64)      36928     \n",
      "_________________________________________________________________\n",
      "block1_pool (MaxPooling2D)   (None, 75, 75, 64)        0         \n",
      "_________________________________________________________________\n",
      "block2_conv1 (Conv2D)        (None, 75, 75, 128)       73856     \n",
      "_________________________________________________________________\n",
      "block2_conv2 (Conv2D)        (None, 75, 75, 128)       147584    \n",
      "_________________________________________________________________\n",
      "block2_pool (MaxPooling2D)   (None, 37, 37, 128)       0         \n",
      "_________________________________________________________________\n",
      "block3_conv1 (Conv2D)        (None, 37, 37, 256)       295168    \n",
      "_________________________________________________________________\n",
      "block3_conv2 (Conv2D)        (None, 37, 37, 256)       590080    \n",
      "_________________________________________________________________\n",
      "block3_conv3 (Conv2D)        (None, 37, 37, 256)       590080    \n",
      "_________________________________________________________________\n",
      "block3_pool (MaxPooling2D)   (None, 18, 18, 256)       0         \n",
      "_________________________________________________________________\n",
      "block4_conv1 (Conv2D)        (None, 18, 18, 512)       1180160   \n",
      "_________________________________________________________________\n",
      "block4_conv2 (Conv2D)        (None, 18, 18, 512)       2359808   \n",
      "_________________________________________________________________\n",
      "block4_conv3 (Conv2D)        (None, 18, 18, 512)       2359808   \n",
      "_________________________________________________________________\n",
      "block4_pool (MaxPooling2D)   (None, 9, 9, 512)         0         \n",
      "_________________________________________________________________\n",
      "block5_conv1 (Conv2D)        (None, 9, 9, 512)         2359808   \n",
      "_________________________________________________________________\n",
      "block5_conv2 (Conv2D)        (None, 9, 9, 512)         2359808   \n",
      "_________________________________________________________________\n",
      "block5_conv3 (Conv2D)        (None, 9, 9, 512)         2359808   \n",
      "_________________________________________________________________\n",
      "block5_pool (MaxPooling2D)   (None, 4, 4, 512)         0         \n",
      "=================================================================\n",
      "Total params: 14,714,688\n",
      "Trainable params: 14,714,688\n",
      "Non-trainable params: 0\n",
      "_________________________________________________________________\n"
     ]
    }
   ],
   "source": [
    "conv_base.summary()"
   ]
  },
  {
   "cell_type": "code",
   "execution_count": 7,
   "metadata": {},
   "outputs": [
    {
     "name": "stdout",
     "output_type": "stream",
     "text": [
      "Found 2000 images belonging to 2 classes.\n",
      "Found 1000 images belonging to 2 classes.\n",
      "Found 1000 images belonging to 2 classes.\n"
     ]
    }
   ],
   "source": [
    "import os\n",
    "import numpy as np\n",
    "from tensorflow.keras.preprocessing.image import ImageDataGenerator\n",
    "\n",
    "base_dir = 'D:/college-lessons/MA/FIU/AI-workshop/dataset/catDog/data/catVsdog'\n",
    "\n",
    "train_dir = os.path.join(base_dir, 'train')\n",
    "validation_dir = os.path.join(base_dir, 'validation')\n",
    "test_dir = os.path.join(base_dir, 'test')\n",
    "\n",
    "datagen = ImageDataGenerator(rescale=1./255)\n",
    "batch_size = 20\n",
    "\n",
    "def extract_features(directory, sample_count):\n",
    "    features = np.zeros(shape=(sample_count, 4, 4, 512))\n",
    "    labels = np.zeros(shape=(sample_count))\n",
    "    generator = datagen.flow_from_directory(\n",
    "        directory,\n",
    "        target_size=(150, 150),\n",
    "        batch_size=batch_size,\n",
    "        class_mode='binary')\n",
    "    i = 0\n",
    "    for inputs_batch, labels_batch in generator:\n",
    "        features_batch = conv_base.predict(inputs_batch)\n",
    "        features[i * batch_size : (i + 1) * batch_size] = features_batch\n",
    "        labels[i * batch_size : (i + 1) * batch_size] = labels_batch\n",
    "        i += 1\n",
    "        if i * batch_size >= sample_count:\n",
    "            # Note that since generators yield data indefinitely in a loop,\n",
    "            # we must `break` after every image has been seen once.\n",
    "            break\n",
    "    return features, labels\n",
    "\n",
    "train_features, train_labels = extract_features(train_dir, 2000)\n",
    "validation_features, validation_labels = extract_features(validation_dir, 1000)\n",
    "test_features, test_labels = extract_features(test_dir, 1000)"
   ]
  },
  {
   "cell_type": "markdown",
   "metadata": {},
   "source": [
    "The extracted features are currently of shape `(samples, 4, 4, 512)`. We will feed them to a densely-connected classifier, so first we must \n",
    "flatten them to `(samples, 8192)`:"
   ]
  },
  {
   "cell_type": "code",
   "execution_count": 8,
   "metadata": {},
   "outputs": [],
   "source": [
    "train_features = np.reshape(train_features, (2000, 4 * 4 * 512))\n",
    "validation_features = np.reshape(validation_features, (1000, 4 * 4 * 512))\n",
    "test_features = np.reshape(test_features, (1000, 4 * 4 * 512))"
   ]
  },
  {
   "cell_type": "markdown",
   "metadata": {},
   "source": [
    "At this point, we can define our densely-connected classifier (note the use of dropout for regularization), and train it on the data and \n",
    "labels that we just recorded:"
   ]
  },
  {
   "cell_type": "code",
   "execution_count": 9,
   "metadata": {},
   "outputs": [
    {
     "name": "stdout",
     "output_type": "stream",
     "text": [
      "Epoch 1/30\n",
      "100/100 [==============================] - 1s 9ms/step - loss: 0.7011 - acc: 0.5689 - val_loss: 0.4624 - val_acc: 0.8140\n",
      "Epoch 2/30\n",
      "100/100 [==============================] - 1s 7ms/step - loss: 0.4637 - acc: 0.7766 - val_loss: 0.3777 - val_acc: 0.8530\n",
      "Epoch 3/30\n",
      "100/100 [==============================] - 1s 7ms/step - loss: 0.3704 - acc: 0.8481 - val_loss: 0.3418 - val_acc: 0.8530\n",
      "Epoch 4/30\n",
      "100/100 [==============================] - 1s 7ms/step - loss: 0.3305 - acc: 0.8713 - val_loss: 0.3075 - val_acc: 0.8830\n",
      "Epoch 5/30\n",
      "100/100 [==============================] - 1s 7ms/step - loss: 0.2915 - acc: 0.8805 - val_loss: 0.2903 - val_acc: 0.8850\n",
      "Epoch 6/30\n",
      "100/100 [==============================] - 1s 7ms/step - loss: 0.2785 - acc: 0.8811 - val_loss: 0.2772 - val_acc: 0.8870\n",
      "Epoch 7/30\n",
      "100/100 [==============================] - 1s 7ms/step - loss: 0.2459 - acc: 0.9081 - val_loss: 0.2690 - val_acc: 0.8880\n",
      "Epoch 8/30\n",
      "100/100 [==============================] - 1s 7ms/step - loss: 0.2494 - acc: 0.8937 - val_loss: 0.2683 - val_acc: 0.8850\n",
      "Epoch 9/30\n",
      "100/100 [==============================] - 1s 7ms/step - loss: 0.2319 - acc: 0.9134 - val_loss: 0.2561 - val_acc: 0.8930\n",
      "Epoch 10/30\n",
      "100/100 [==============================] - 1s 7ms/step - loss: 0.2112 - acc: 0.9233 - val_loss: 0.2499 - val_acc: 0.9000\n",
      "Epoch 11/30\n",
      "100/100 [==============================] - 1s 7ms/step - loss: 0.2026 - acc: 0.9224 - val_loss: 0.2457 - val_acc: 0.9030\n",
      "Epoch 12/30\n",
      "100/100 [==============================] - 1s 8ms/step - loss: 0.1906 - acc: 0.9316 - val_loss: 0.2501 - val_acc: 0.9020\n",
      "Epoch 13/30\n",
      "100/100 [==============================] - 1s 7ms/step - loss: 0.1827 - acc: 0.9346 - val_loss: 0.2420 - val_acc: 0.9020\n",
      "Epoch 14/30\n",
      "100/100 [==============================] - 1s 7ms/step - loss: 0.1589 - acc: 0.9441 - val_loss: 0.2401 - val_acc: 0.9020\n",
      "Epoch 15/30\n",
      "100/100 [==============================] - 1s 7ms/step - loss: 0.1753 - acc: 0.9355 - val_loss: 0.2405 - val_acc: 0.9010\n",
      "Epoch 16/30\n",
      "100/100 [==============================] - 1s 7ms/step - loss: 0.1588 - acc: 0.9357 - val_loss: 0.2384 - val_acc: 0.8990\n",
      "Epoch 17/30\n",
      "100/100 [==============================] - 1s 7ms/step - loss: 0.1520 - acc: 0.9435 - val_loss: 0.2385 - val_acc: 0.9010\n",
      "Epoch 18/30\n",
      "100/100 [==============================] - 1s 7ms/step - loss: 0.1526 - acc: 0.9419 - val_loss: 0.2411 - val_acc: 0.9000\n",
      "Epoch 19/30\n",
      "100/100 [==============================] - 1s 7ms/step - loss: 0.1384 - acc: 0.9518 - val_loss: 0.2374 - val_acc: 0.9040\n",
      "Epoch 20/30\n",
      "100/100 [==============================] - 1s 7ms/step - loss: 0.1328 - acc: 0.9568 - val_loss: 0.2401 - val_acc: 0.8990\n",
      "Epoch 21/30\n",
      "100/100 [==============================] - 1s 7ms/step - loss: 0.1243 - acc: 0.9601 - val_loss: 0.2435 - val_acc: 0.8990\n",
      "Epoch 22/30\n",
      "100/100 [==============================] - 1s 7ms/step - loss: 0.1304 - acc: 0.9513 - val_loss: 0.2373 - val_acc: 0.9020\n",
      "Epoch 23/30\n",
      "100/100 [==============================] - 1s 7ms/step - loss: 0.1215 - acc: 0.9575 - val_loss: 0.2405 - val_acc: 0.9000\n",
      "Epoch 24/30\n",
      "100/100 [==============================] - 1s 8ms/step - loss: 0.1120 - acc: 0.9611 - val_loss: 0.2407 - val_acc: 0.8980\n",
      "Epoch 25/30\n",
      "100/100 [==============================] - 1s 7ms/step - loss: 0.1059 - acc: 0.9654 - val_loss: 0.2496 - val_acc: 0.8970\n",
      "Epoch 26/30\n",
      "100/100 [==============================] - 1s 7ms/step - loss: 0.1005 - acc: 0.9688 - val_loss: 0.2350 - val_acc: 0.9040\n",
      "Epoch 27/30\n",
      "100/100 [==============================] - 1s 7ms/step - loss: 0.0990 - acc: 0.9660 - val_loss: 0.2358 - val_acc: 0.9030\n",
      "Epoch 28/30\n",
      "100/100 [==============================] - 1s 8ms/step - loss: 0.1039 - acc: 0.9674 - val_loss: 0.2391 - val_acc: 0.8980\n",
      "Epoch 29/30\n",
      "100/100 [==============================] - 1s 7ms/step - loss: 0.0979 - acc: 0.9665 - val_loss: 0.2375 - val_acc: 0.9010\n",
      "Epoch 30/30\n",
      "100/100 [==============================] - 1s 7ms/step - loss: 0.0832 - acc: 0.9730 - val_loss: 0.2436 - val_acc: 0.9010\n"
     ]
    }
   ],
   "source": [
    "from tensorflow.keras import models\n",
    "from tensorflow.keras import layers\n",
    "from tensorflow.keras import optimizers\n",
    "\n",
    "model = models.Sequential()\n",
    "model.add(layers.Dense(256, activation='relu', input_dim=4 * 4 * 512))\n",
    "model.add(layers.Dropout(0.5))\n",
    "model.add(layers.Dense(1, activation='sigmoid'))\n",
    "\n",
    "model.compile(optimizer=optimizers.RMSprop(lr=2e-5),\n",
    "              loss='binary_crossentropy',\n",
    "              metrics=['acc'])\n",
    "\n",
    "history = model.fit(train_features, train_labels,\n",
    "                    epochs=30,\n",
    "                    batch_size=20,\n",
    "                    validation_data=(validation_features, validation_labels))"
   ]
  },
  {
   "cell_type": "markdown",
   "metadata": {},
   "source": [
    "Training is very fast, since we only have to deal with two `Dense` layers -- an epoch takes less than one second even on CPU.\n",
    "\n",
    "Let's take a look at the loss and accuracy curves during training:"
   ]
  },
  {
   "cell_type": "code",
   "execution_count": 11,
   "metadata": {},
   "outputs": [
    {
     "data": {
      "text/plain": [
       "<matplotlib.legend.Legend at 0x1ce466056d0>"
      ]
     },
     "execution_count": 11,
     "metadata": {},
     "output_type": "execute_result"
    },
    {
     "data": {
      "image/png": "[encoded data removed]",
      "text/plain": [
       "<Figure size 432x288 with 1 Axes>"
      ]
     },
     "metadata": {
      "needs_background": "light"
     },
     "output_type": "display_data"
    },
    {
     "data": {
      "image/png": "[encoded data removed]",
      "text/plain": [
       "<Figure size 432x288 with 1 Axes>"
      ]
     },
     "metadata": {
      "needs_background": "light"
     },
     "output_type": "display_data"
    }
   ],
   "source": [
    "import matplotlib.pyplot as plt\n",
    "\n",
    "acc = history.history['acc']\n",
    "val_acc = history.history['val_acc']\n",
    "loss = history.history['loss']\n",
    "val_loss = history.history['val_loss']\n",
    "\n",
    "epochs = range(len(acc))\n",
    "\n",
    "plt.plot(epochs, acc, 'bo', label='Training acc')\n",
    "plt.plot(epochs, val_acc, 'b', label='Validation acc')\n",
    "plt.title('Training and validation accuracy')\n",
    "plt.legend()\n",
    "\n",
    "plt.figure()\n",
    "\n",
    "plt.plot(epochs, loss, 'bo', label='Training loss')\n",
    "plt.plot(epochs, val_loss, 'b', label='Validation loss')\n",
    "plt.title('Training and validation loss')\n",
    "plt.legend()\n"
   ]
  },
  {
   "cell_type": "code",
   "execution_count": 12,
   "metadata": {},
   "outputs": [],
   "source": [
    "from tensorflow.keras import models\n",
    "from tensorflow.keras import layers\n",
    "\n",
    "model = models.Sequential()\n",
    "model.add(conv_base)\n",
    "model.add(layers.Flatten())\n",
    "model.add(layers.Dense(256, activation='relu'))\n",
    "model.add(layers.Dense(1, activation='sigmoid'))"
   ]
  },
  {
   "cell_type": "markdown",
   "metadata": {},
   "source": [
    "This is what our model looks like now:"
   ]
  },
  {
   "cell_type": "code",
   "execution_count": 13,
   "metadata": {},
   "outputs": [
    {
     "name": "stdout",
     "output_type": "stream",
     "text": [
      "Model: \"sequential_1\"\n",
      "_________________________________________________________________\n",
      "Layer (type)                 Output Shape              Param #   \n",
      "=================================================================\n",
      "vgg16 (Functional)           (None, 4, 4, 512)         14714688  \n",
      "_________________________________________________________________\n",
      "flatten (Flatten)            (None, 8192)              0         \n",
      "_________________________________________________________________\n",
      "dense_2 (Dense)              (None, 256)               2097408   \n",
      "_________________________________________________________________\n",
      "dense_3 (Dense)              (None, 1)                 257       \n",
      "=================================================================\n",
      "Total params: 16,812,353\n",
      "Trainable params: 16,812,353\n",
      "Non-trainable params: 0\n",
      "_________________________________________________________________\n"
     ]
    }
   ],
   "source": [
    "model.summary()"
   ]
  },
  {
   "cell_type": "code",
   "execution_count": 14,
   "metadata": {},
   "outputs": [
    {
     "name": "stdout",
     "output_type": "stream",
     "text": [
      "This is the number of trainable weights before freezing the conv base: 30\n"
     ]
    }
   ],
   "source": [
    "print('This is the number of trainable weights '\n",
    "      'before freezing the conv base:', len(model.trainable_weights))"
   ]
  },
  {
   "cell_type": "code",
   "execution_count": 15,
   "metadata": {},
   "outputs": [],
   "source": [
    "conv_base.trainable = False"
   ]
  },
  {
   "cell_type": "code",
   "execution_count": 16,
   "metadata": {},
   "outputs": [
    {
     "name": "stdout",
     "output_type": "stream",
     "text": [
      "This is the number of trainable weights after freezing the conv base: 4\n"
     ]
    }
   ],
   "source": [
    "print('This is the number of trainable weights '\n",
    "      'after freezing the conv base:', len(model.trainable_weights))"
   ]
  },
  {
   "cell_type": "code",
   "execution_count": 18,
   "metadata": {},
   "outputs": [
    {
     "name": "stdout",
     "output_type": "stream",
     "text": [
      "Found 2000 images belonging to 2 classes.\n",
      "Found 1000 images belonging to 2 classes.\n"
     ]
    },
    {
     "name": "stderr",
     "output_type": "stream",
     "text": [
      "C:\\Users\\msi-pc\\.conda\\envs\\tf24\\lib\\site-packages\\tensorflow\\python\\keras\\engine\\training.py:1844: UserWarning: `Model.fit_generator` is deprecated and will be removed in a future version. Please use `Model.fit`, which supports generators.\n",
      "  warnings.warn('`Model.fit_generator` is deprecated and '\n"
     ]
    },
    {
     "name": "stdout",
     "output_type": "stream",
     "text": [
      "Epoch 1/30\n",
      "100/100 - 19s - loss: 0.5866 - acc: 0.6845 - val_loss: 0.4476 - val_acc: 0.8260\n",
      "Epoch 2/30\n",
      "100/100 - 18s - loss: 0.4823 - acc: 0.7760 - val_loss: 0.3717 - val_acc: 0.8630\n",
      "Epoch 3/30\n",
      "100/100 - 16s - loss: 0.4379 - acc: 0.8075 - val_loss: 0.3416 - val_acc: 0.8670\n",
      "Epoch 4/30\n",
      "100/100 - 16s - loss: 0.4019 - acc: 0.8230 - val_loss: 0.3116 - val_acc: 0.8690\n",
      "Epoch 5/30\n",
      "100/100 - 17s - loss: 0.3833 - acc: 0.8305 - val_loss: 0.2941 - val_acc: 0.8810\n",
      "Epoch 6/30\n",
      "100/100 - 16s - loss: 0.3726 - acc: 0.8355 - val_loss: 0.2830 - val_acc: 0.8820\n",
      "Epoch 7/30\n",
      "100/100 - 17s - loss: 0.3629 - acc: 0.8395 - val_loss: 0.2888 - val_acc: 0.8840\n",
      "Epoch 8/30\n",
      "100/100 - 17s - loss: 0.3405 - acc: 0.8565 - val_loss: 0.2737 - val_acc: 0.8790\n",
      "Epoch 9/30\n",
      "100/100 - 18s - loss: 0.3501 - acc: 0.8450 - val_loss: 0.2708 - val_acc: 0.8770\n",
      "Epoch 10/30\n",
      "100/100 - 19s - loss: 0.3232 - acc: 0.8600 - val_loss: 0.2628 - val_acc: 0.8870\n",
      "Epoch 11/30\n",
      "100/100 - 18s - loss: 0.3166 - acc: 0.8570 - val_loss: 0.2668 - val_acc: 0.8900\n",
      "Epoch 12/30\n",
      "100/100 - 17s - loss: 0.3325 - acc: 0.8590 - val_loss: 0.2594 - val_acc: 0.8850\n",
      "Epoch 13/30\n",
      "100/100 - 18s - loss: 0.3141 - acc: 0.8660 - val_loss: 0.2567 - val_acc: 0.8900\n",
      "Epoch 14/30\n",
      "100/100 - 17s - loss: 0.3237 - acc: 0.8590 - val_loss: 0.2567 - val_acc: 0.8910\n",
      "Epoch 15/30\n",
      "100/100 - 17s - loss: 0.3134 - acc: 0.8600 - val_loss: 0.2562 - val_acc: 0.8890\n",
      "Epoch 16/30\n",
      "100/100 - 17s - loss: 0.2966 - acc: 0.8785 - val_loss: 0.2600 - val_acc: 0.8880\n",
      "Epoch 17/30\n",
      "100/100 - 17s - loss: 0.3224 - acc: 0.8570 - val_loss: 0.2566 - val_acc: 0.8850\n",
      "Epoch 18/30\n",
      "100/100 - 17s - loss: 0.3071 - acc: 0.8635 - val_loss: 0.2469 - val_acc: 0.9000\n",
      "Epoch 19/30\n",
      "100/100 - 17s - loss: 0.3053 - acc: 0.8640 - val_loss: 0.2561 - val_acc: 0.8880\n",
      "Epoch 20/30\n",
      "100/100 - 17s - loss: 0.2951 - acc: 0.8680 - val_loss: 0.2449 - val_acc: 0.8960\n",
      "Epoch 21/30\n",
      "100/100 - 17s - loss: 0.2881 - acc: 0.8750 - val_loss: 0.2442 - val_acc: 0.8980\n",
      "Epoch 22/30\n",
      "100/100 - 18s - loss: 0.2901 - acc: 0.8745 - val_loss: 0.2565 - val_acc: 0.8880\n",
      "Epoch 23/30\n",
      "100/100 - 17s - loss: 0.2941 - acc: 0.8740 - val_loss: 0.2449 - val_acc: 0.8960\n",
      "Epoch 24/30\n",
      "100/100 - 17s - loss: 0.2903 - acc: 0.8775 - val_loss: 0.2455 - val_acc: 0.8960\n",
      "Epoch 25/30\n",
      "100/100 - 17s - loss: 0.2855 - acc: 0.8800 - val_loss: 0.2427 - val_acc: 0.9000\n",
      "Epoch 26/30\n",
      "100/100 - 21s - loss: 0.2744 - acc: 0.8830 - val_loss: 0.2449 - val_acc: 0.8970\n",
      "Epoch 27/30\n",
      "100/100 - 20s - loss: 0.2875 - acc: 0.8810 - val_loss: 0.2422 - val_acc: 0.8980\n",
      "Epoch 28/30\n",
      "100/100 - 20s - loss: 0.2845 - acc: 0.8820 - val_loss: 0.2480 - val_acc: 0.8960\n",
      "Epoch 29/30\n",
      "100/100 - 19s - loss: 0.2898 - acc: 0.8760 - val_loss: 0.2686 - val_acc: 0.8830\n",
      "Epoch 30/30\n",
      "100/100 - 18s - loss: 0.2833 - acc: 0.8765 - val_loss: 0.2425 - val_acc: 0.8990\n"
     ]
    }
   ],
   "source": [
    "from tensorflow.keras.preprocessing.image import ImageDataGenerator\n",
    "\n",
    "train_datagen = ImageDataGenerator(\n",
    "      rescale=1./255,\n",
    "      rotation_range=40,\n",
    "      width_shift_range=0.2,\n",
    "      height_shift_range=0.2,\n",
    "      shear_range=0.2,\n",
    "      zoom_range=0.2,\n",
    "      horizontal_flip=True,\n",
    "      fill_mode='nearest')\n",
    "\n",
    "# Note that the validation data should not be augmented!\n",
    "test_datagen = ImageDataGenerator(rescale=1./255)\n",
    "\n",
    "train_generator = train_datagen.flow_from_directory(\n",
    "        # This is the target directory\n",
    "        train_dir,\n",
    "        # All images will be resized to 150x150\n",
    "        target_size=(150, 150),\n",
    "        batch_size=20,\n",
    "        # Since we use binary_crossentropy loss, we need binary labels\n",
    "        class_mode='binary')\n",
    "\n",
    "validation_generator = test_datagen.flow_from_directory(\n",
    "        validation_dir,\n",
    "        target_size=(150, 150),\n",
    "        batch_size=20,\n",
    "        class_mode='binary')\n",
    "\n",
    "model.compile(loss='binary_crossentropy',\n",
    "              optimizer=optimizers.RMSprop(lr=2e-5),\n",
    "              metrics=['acc'])\n",
    "\n",
    "history = model.fit(\n",
    "      train_generator,\n",
    "      steps_per_epoch=100,\n",
    "      epochs=30,\n",
    "      validation_data=validation_generator,\n",
    "      validation_steps=50,\n",
    "      verbose=2)"
   ]
  },
  {
   "cell_type": "code",
   "execution_count": 19,
   "metadata": {},
   "outputs": [],
   "source": [
    "model.save('cats_and_dogs_small_3.h5')"
   ]
  },
  {
   "cell_type": "markdown",
   "metadata": {},
   "source": [
    "Let's plot our results again:"
   ]
  },
  {
   "cell_type": "code",
   "execution_count": 20,
   "metadata": {},
   "outputs": [
    {
     "data": {
      "text/plain": [
       "<matplotlib.legend.Legend at 0x1d0331a35e0>"
      ]
     },
     "execution_count": 20,
     "metadata": {},
     "output_type": "execute_result"
    },
    {
     "data": {
      "image/png": "[encoded data removed]",
      "text/plain": [
       "<Figure size 432x288 with 1 Axes>"
      ]
     },
     "metadata": {
      "needs_background": "light"
     },
     "output_type": "display_data"
    },
    {
     "data": {
      "image/png": "[encoded data removed]",
      "text/plain": [
       "<Figure size 432x288 with 1 Axes>"
      ]
     },
     "metadata": {
      "needs_background": "light"
     },
     "output_type": "display_data"
    }
   ],
   "source": [
    "acc = history.history['acc']\n",
    "val_acc = history.history['val_acc']\n",
    "loss = history.history['loss']\n",
    "val_loss = history.history['val_loss']\n",
    "\n",
    "epochs = range(len(acc))\n",
    "\n",
    "plt.plot(epochs, acc, 'bo', label='Training acc')\n",
    "plt.plot(epochs, val_acc, 'b', label='Validation acc')\n",
    "plt.title('Training and validation accuracy')\n",
    "plt.legend()\n",
    "\n",
    "plt.figure()\n",
    "\n",
    "plt.plot(epochs, loss, 'bo', label='Training loss')\n",
    "plt.plot(epochs, val_loss, 'b', label='Validation loss')\n",
    "plt.title('Training and validation loss')\n",
    "plt.legend()\n"
   ]
  },
  {
   "cell_type": "markdown",
   "metadata": {},
   "source": [
    "As you can see, we reach a validation accuracy of about 96%. This is much better than our small convnet trained from scratch."
   ]
  },
  {
   "cell_type": "markdown",
   "metadata": {},
   "source": [
    "## Fine-tuning\n",
    "\n",
    "Another widely used technique for model reuse, complementary to feature extraction, is _fine-tuning_. \n",
    "Fine-tuning consists in unfreezing a few of the top layers \n",
    "of a frozen model base used for feature extraction, and jointly training both the newly added part of the model (in our case, the \n",
    "fully-connected classifier) and these top layers. This is called \"fine-tuning\" because it slightly adjusts the more abstract \n",
    "representations of the model being reused, in order to make them more relevant for the problem at hand.\n",
    "\n",
    "![fine-tuning VGG16](https://s3.amazonaws.com/book.keras.io/img/ch5/vgg16_fine_tuning.png)"
   ]
  },
  {
   "cell_type": "code",
   "execution_count": 21,
   "metadata": {},
   "outputs": [
    {
     "name": "stdout",
     "output_type": "stream",
     "text": [
      "Model: \"vgg16\"\n",
      "_________________________________________________________________\n",
      "Layer (type)                 Output Shape              Param #   \n",
      "=================================================================\n",
      "input_1 (InputLayer)         [(None, 150, 150, 3)]     0         \n",
      "_________________________________________________________________\n",
      "block1_conv1 (Conv2D)        (None, 150, 150, 64)      1792      \n",
      "_________________________________________________________________\n",
      "block1_conv2 (Conv2D)        (None, 150, 150, 64)      36928     \n",
      "_________________________________________________________________\n",
      "block1_pool (MaxPooling2D)   (None, 75, 75, 64)        0         \n",
      "_________________________________________________________________\n",
      "block2_conv1 (Conv2D)        (None, 75, 75, 128)       73856     \n",
      "_________________________________________________________________\n",
      "block2_conv2 (Conv2D)        (None, 75, 75, 128)       147584    \n",
      "_________________________________________________________________\n",
      "block2_pool (MaxPooling2D)   (None, 37, 37, 128)       0         \n",
      "_________________________________________________________________\n",
      "block3_conv1 (Conv2D)        (None, 37, 37, 256)       295168    \n",
      "_________________________________________________________________\n",
      "block3_conv2 (Conv2D)        (None, 37, 37, 256)       590080    \n",
      "_________________________________________________________________\n",
      "block3_conv3 (Conv2D)        (None, 37, 37, 256)       590080    \n",
      "_________________________________________________________________\n",
      "block3_pool (MaxPooling2D)   (None, 18, 18, 256)       0         \n",
      "_________________________________________________________________\n",
      "block4_conv1 (Conv2D)        (None, 18, 18, 512)       1180160   \n",
      "_________________________________________________________________\n",
      "block4_conv2 (Conv2D)        (None, 18, 18, 512)       2359808   \n",
      "_________________________________________________________________\n",
      "block4_conv3 (Conv2D)        (None, 18, 18, 512)       2359808   \n",
      "_________________________________________________________________\n",
      "block4_pool (MaxPooling2D)   (None, 9, 9, 512)         0         \n",
      "_________________________________________________________________\n",
      "block5_conv1 (Conv2D)        (None, 9, 9, 512)         2359808   \n",
      "_________________________________________________________________\n",
      "block5_conv2 (Conv2D)        (None, 9, 9, 512)         2359808   \n",
      "_________________________________________________________________\n",
      "block5_conv3 (Conv2D)        (None, 9, 9, 512)         2359808   \n",
      "_________________________________________________________________\n",
      "block5_pool (MaxPooling2D)   (None, 4, 4, 512)         0         \n",
      "=================================================================\n",
      "Total params: 14,714,688\n",
      "Trainable params: 0\n",
      "Non-trainable params: 14,714,688\n",
      "_________________________________________________________________\n"
     ]
    }
   ],
   "source": [
    "conv_base.summary()"
   ]
  },
  {
   "cell_type": "code",
   "execution_count": 22,
   "metadata": {},
   "outputs": [],
   "source": [
    "conv_base.trainable = True\n",
    "\n",
    "set_trainable = False\n",
    "for layer in conv_base.layers:\n",
    "    if layer.name == 'block5_conv1':\n",
    "        set_trainable = True\n",
    "    if set_trainable:\n",
    "        layer.trainable = True\n",
    "    else:\n",
    "        layer.trainable = False"
   ]
  },
  {
   "cell_type": "code",
   "execution_count": 23,
   "metadata": {},
   "outputs": [
    {
     "name": "stdout",
     "output_type": "stream",
     "text": [
      "Epoch 1/100\n",
      "100/100 [==============================] - 20s 185ms/step - loss: 0.3050 - acc: 0.8685 - val_loss: 0.2755 - val_acc: 0.8840\n",
      "Epoch 2/100\n",
      "100/100 [==============================] - 19s 185ms/step - loss: 0.2694 - acc: 0.8732 - val_loss: 0.2202 - val_acc: 0.9160\n",
      "Epoch 3/100\n",
      "100/100 [==============================] - 19s 187ms/step - loss: 0.2326 - acc: 0.9086 - val_loss: 0.2435 - val_acc: 0.8990\n",
      "Epoch 4/100\n",
      "100/100 [==============================] - 18s 181ms/step - loss: 0.2821 - acc: 0.8770 - val_loss: 0.2001 - val_acc: 0.9180\n",
      "Epoch 5/100\n",
      "100/100 [==============================] - 19s 184ms/step - loss: 0.1981 - acc: 0.9109 - val_loss: 0.2069 - val_acc: 0.9190\n",
      "Epoch 6/100\n",
      "100/100 [==============================] - 19s 188ms/step - loss: 0.1887 - acc: 0.9175 - val_loss: 0.2333 - val_acc: 0.9130\n",
      "Epoch 7/100\n",
      "100/100 [==============================] - 19s 189ms/step - loss: 0.1864 - acc: 0.9200 - val_loss: 0.1911 - val_acc: 0.9230\n",
      "Epoch 8/100\n",
      "100/100 [==============================] - 19s 194ms/step - loss: 0.1777 - acc: 0.9189 - val_loss: 0.2003 - val_acc: 0.9250\n",
      "Epoch 9/100\n",
      "100/100 [==============================] - 19s 192ms/step - loss: 0.1705 - acc: 0.9391 - val_loss: 0.1926 - val_acc: 0.9280\n",
      "Epoch 10/100\n",
      "100/100 [==============================] - 19s 187ms/step - loss: 0.1609 - acc: 0.9372 - val_loss: 0.2040 - val_acc: 0.9250\n",
      "Epoch 11/100\n",
      "100/100 [==============================] - 19s 192ms/step - loss: 0.1545 - acc: 0.9397 - val_loss: 0.2093 - val_acc: 0.9260\n",
      "Epoch 12/100\n",
      "100/100 [==============================] - 20s 197ms/step - loss: 0.1378 - acc: 0.9455 - val_loss: 0.1943 - val_acc: 0.9280\n",
      "Epoch 13/100\n",
      "100/100 [==============================] - 20s 196ms/step - loss: 0.1243 - acc: 0.9502 - val_loss: 0.1869 - val_acc: 0.9320\n",
      "Epoch 14/100\n",
      "100/100 [==============================] - 20s 198ms/step - loss: 0.1305 - acc: 0.9510 - val_loss: 0.2415 - val_acc: 0.9210\n",
      "Epoch 15/100\n",
      "100/100 [==============================] - 20s 198ms/step - loss: 0.1303 - acc: 0.9505 - val_loss: 0.1966 - val_acc: 0.9300\n",
      "Epoch 16/100\n",
      "100/100 [==============================] - 20s 203ms/step - loss: 0.1054 - acc: 0.9581 - val_loss: 0.2193 - val_acc: 0.9280\n",
      "Epoch 17/100\n",
      "100/100 [==============================] - 20s 200ms/step - loss: 0.0993 - acc: 0.9616 - val_loss: 0.2019 - val_acc: 0.9280\n",
      "Epoch 18/100\n",
      "100/100 [==============================] - 20s 202ms/step - loss: 0.0867 - acc: 0.9631 - val_loss: 0.2021 - val_acc: 0.9280\n",
      "Epoch 19/100\n",
      "100/100 [==============================] - 20s 203ms/step - loss: 0.1057 - acc: 0.9551 - val_loss: 0.1973 - val_acc: 0.9280\n",
      "Epoch 20/100\n",
      "100/100 [==============================] - 21s 208ms/step - loss: 0.1049 - acc: 0.9641 - val_loss: 0.2314 - val_acc: 0.9220\n",
      "Epoch 21/100\n",
      "100/100 [==============================] - 21s 207ms/step - loss: 0.0931 - acc: 0.9624 - val_loss: 0.2172 - val_acc: 0.9210\n",
      "Epoch 22/100\n",
      "100/100 [==============================] - 21s 207ms/step - loss: 0.0914 - acc: 0.9663 - val_loss: 0.1867 - val_acc: 0.9330\n",
      "Epoch 23/100\n",
      "100/100 [==============================] - 21s 207ms/step - loss: 0.0601 - acc: 0.9771 - val_loss: 0.2012 - val_acc: 0.9270\n",
      "Epoch 24/100\n",
      "100/100 [==============================] - 21s 207ms/step - loss: 0.1046 - acc: 0.9672 - val_loss: 0.2285 - val_acc: 0.9260\n",
      "Epoch 25/100\n",
      "100/100 [==============================] - 21s 213ms/step - loss: 0.0661 - acc: 0.9788 - val_loss: 0.1870 - val_acc: 0.9390\n",
      "Epoch 26/100\n",
      "100/100 [==============================] - 22s 218ms/step - loss: 0.0987 - acc: 0.9617 - val_loss: 0.1909 - val_acc: 0.9250\n",
      "Epoch 27/100\n",
      "100/100 [==============================] - 21s 212ms/step - loss: 0.0784 - acc: 0.9709 - val_loss: 0.2629 - val_acc: 0.9180\n",
      "Epoch 28/100\n",
      "100/100 [==============================] - 22s 216ms/step - loss: 0.0733 - acc: 0.9734 - val_loss: 0.1935 - val_acc: 0.9350\n",
      "Epoch 29/100\n",
      "100/100 [==============================] - 22s 218ms/step - loss: 0.0741 - acc: 0.9733 - val_loss: 0.2139 - val_acc: 0.9270\n",
      "Epoch 30/100\n",
      "100/100 [==============================] - 22s 218ms/step - loss: 0.0681 - acc: 0.9744 - val_loss: 0.2211 - val_acc: 0.9330\n",
      "Epoch 31/100\n",
      "100/100 [==============================] - 22s 221ms/step - loss: 0.0698 - acc: 0.9752 - val_loss: 0.2164 - val_acc: 0.9290\n",
      "Epoch 32/100\n",
      "100/100 [==============================] - 23s 226ms/step - loss: 0.0579 - acc: 0.9784 - val_loss: 0.2067 - val_acc: 0.9260\n",
      "Epoch 33/100\n",
      "100/100 [==============================] - 23s 230ms/step - loss: 0.0546 - acc: 0.9814 - val_loss: 0.2096 - val_acc: 0.9400\n",
      "Epoch 34/100\n",
      "100/100 [==============================] - 23s 231ms/step - loss: 0.0536 - acc: 0.9745 - val_loss: 0.2943 - val_acc: 0.9130\n",
      "Epoch 35/100\n",
      "100/100 [==============================] - 23s 228ms/step - loss: 0.0636 - acc: 0.9751 - val_loss: 0.2323 - val_acc: 0.9300\n",
      "Epoch 36/100\n",
      "100/100 [==============================] - 23s 231ms/step - loss: 0.0690 - acc: 0.9787 - val_loss: 0.2076 - val_acc: 0.9320\n",
      "Epoch 37/100\n",
      "100/100 [==============================] - 23s 230ms/step - loss: 0.0561 - acc: 0.9811 - val_loss: 0.1975 - val_acc: 0.9320\n",
      "Epoch 38/100\n",
      "100/100 [==============================] - 23s 230ms/step - loss: 0.0455 - acc: 0.9835 - val_loss: 0.2378 - val_acc: 0.9240\n",
      "Epoch 39/100\n",
      "100/100 [==============================] - 23s 233ms/step - loss: 0.0503 - acc: 0.9829 - val_loss: 0.2213 - val_acc: 0.9400\n",
      "Epoch 40/100\n",
      "100/100 [==============================] - 24s 241ms/step - loss: 0.0553 - acc: 0.9781 - val_loss: 0.1996 - val_acc: 0.9420\n",
      "Epoch 41/100\n",
      "100/100 [==============================] - 24s 236ms/step - loss: 0.0430 - acc: 0.9832 - val_loss: 0.2680 - val_acc: 0.9220\n",
      "Epoch 42/100\n",
      "100/100 [==============================] - 24s 240ms/step - loss: 0.0640 - acc: 0.9819 - val_loss: 0.2656 - val_acc: 0.9290\n",
      "Epoch 43/100\n",
      "100/100 [==============================] - 24s 239ms/step - loss: 0.0441 - acc: 0.9837 - val_loss: 0.2768 - val_acc: 0.9240\n",
      "Epoch 44/100\n",
      "100/100 [==============================] - 24s 242ms/step - loss: 0.0358 - acc: 0.9869 - val_loss: 0.3016 - val_acc: 0.9240\n",
      "Epoch 45/100\n",
      "100/100 [==============================] - 24s 244ms/step - loss: 0.0645 - acc: 0.9808 - val_loss: 0.3007 - val_acc: 0.9270\n",
      "Epoch 46/100\n",
      "100/100 [==============================] - 25s 248ms/step - loss: 0.0309 - acc: 0.9890 - val_loss: 0.2344 - val_acc: 0.9350\n",
      "Epoch 47/100\n",
      "100/100 [==============================] - 25s 249ms/step - loss: 0.0432 - acc: 0.9831 - val_loss: 0.2263 - val_acc: 0.9290\n",
      "Epoch 48/100\n",
      "100/100 [==============================] - 29s 290ms/step - loss: 0.0369 - acc: 0.9861 - val_loss: 0.2421 - val_acc: 0.9340\n",
      "Epoch 49/100\n",
      "100/100 [==============================] - 26s 263ms/step - loss: 0.0316 - acc: 0.9896 - val_loss: 0.2410 - val_acc: 0.9370\n",
      "Epoch 50/100\n",
      "100/100 [==============================] - 25s 253ms/step - loss: 0.0526 - acc: 0.9747 - val_loss: 0.2137 - val_acc: 0.9330\n",
      "Epoch 51/100\n",
      "100/100 [==============================] - 27s 266ms/step - loss: 0.0375 - acc: 0.9888 - val_loss: 0.2229 - val_acc: 0.9350\n",
      "Epoch 52/100\n",
      "100/100 [==============================] - 32s 322ms/step - loss: 0.0413 - acc: 0.9839 - val_loss: 0.2236 - val_acc: 0.9330\n",
      "Epoch 53/100\n",
      "100/100 [==============================] - 31s 309ms/step - loss: 0.0328 - acc: 0.9858 - val_loss: 0.2671 - val_acc: 0.9280\n",
      "Epoch 54/100\n",
      "100/100 [==============================] - 31s 307ms/step - loss: 0.0412 - acc: 0.9836 - val_loss: 0.2072 - val_acc: 0.9380\n",
      "Epoch 55/100\n",
      "100/100 [==============================] - 33s 323ms/step - loss: 0.0364 - acc: 0.9873 - val_loss: 0.2174 - val_acc: 0.9380\n",
      "Epoch 56/100\n",
      "100/100 [==============================] - 30s 298ms/step - loss: 0.0305 - acc: 0.9876 - val_loss: 0.2176 - val_acc: 0.9390\n",
      "Epoch 57/100\n",
      "100/100 [==============================] - 31s 312ms/step - loss: 0.0262 - acc: 0.9912 - val_loss: 0.2399 - val_acc: 0.9350\n",
      "Epoch 58/100\n",
      "100/100 [==============================] - 28s 282ms/step - loss: 0.0352 - acc: 0.9862 - val_loss: 0.2101 - val_acc: 0.9400\n",
      "Epoch 59/100\n",
      "100/100 [==============================] - 31s 307ms/step - loss: 0.0245 - acc: 0.9926 - val_loss: 0.2326 - val_acc: 0.9360\n",
      "Epoch 60/100\n",
      "100/100 [==============================] - 30s 299ms/step - loss: 0.0329 - acc: 0.9893 - val_loss: 0.3056 - val_acc: 0.9270\n"
     ]
    },
    {
     "name": "stdout",
     "output_type": "stream",
     "text": [
      "Epoch 61/100\n",
      "100/100 [==============================] - 30s 304ms/step - loss: 0.0289 - acc: 0.9892 - val_loss: 0.3316 - val_acc: 0.9190\n",
      "Epoch 62/100\n",
      "100/100 [==============================] - 30s 298ms/step - loss: 0.0252 - acc: 0.9908 - val_loss: 0.2023 - val_acc: 0.9370\n",
      "Epoch 63/100\n",
      "100/100 [==============================] - 31s 305ms/step - loss: 0.0412 - acc: 0.9876 - val_loss: 0.2441 - val_acc: 0.9330\n",
      "Epoch 64/100\n",
      "100/100 [==============================] - 31s 309ms/step - loss: 0.0328 - acc: 0.9896 - val_loss: 0.2184 - val_acc: 0.9370\n",
      "Epoch 65/100\n",
      "100/100 [==============================] - 30s 301ms/step - loss: 0.0290 - acc: 0.9893 - val_loss: 0.2233 - val_acc: 0.9320\n",
      "Epoch 66/100\n",
      "100/100 [==============================] - 30s 301ms/step - loss: 0.0212 - acc: 0.9921 - val_loss: 0.3081 - val_acc: 0.9250\n",
      "Epoch 67/100\n",
      "100/100 [==============================] - 34s 337ms/step - loss: 0.0276 - acc: 0.9892 - val_loss: 0.3751 - val_acc: 0.9230\n",
      "Epoch 68/100\n",
      "100/100 [==============================] - 33s 329ms/step - loss: 0.0201 - acc: 0.9946 - val_loss: 0.7138 - val_acc: 0.8820\n",
      "Epoch 69/100\n",
      "100/100 [==============================] - 34s 339ms/step - loss: 0.0467 - acc: 0.9932 - val_loss: 0.2086 - val_acc: 0.9420\n",
      "Epoch 70/100\n",
      "100/100 [==============================] - 35s 350ms/step - loss: 0.0268 - acc: 0.9880 - val_loss: 0.3977 - val_acc: 0.9210\n",
      "Epoch 71/100\n",
      "100/100 [==============================] - 36s 365ms/step - loss: 0.0290 - acc: 0.9882 - val_loss: 0.2738 - val_acc: 0.9360\n",
      "Epoch 72/100\n",
      "100/100 [==============================] - 34s 343ms/step - loss: 0.0190 - acc: 0.9924 - val_loss: 0.2320 - val_acc: 0.9400\n",
      "Epoch 73/100\n",
      "100/100 [==============================] - 31s 306ms/step - loss: 0.0525 - acc: 0.9831 - val_loss: 0.4120 - val_acc: 0.9150\n",
      "Epoch 74/100\n",
      "100/100 [==============================] - 31s 312ms/step - loss: 0.0308 - acc: 0.9885 - val_loss: 0.2591 - val_acc: 0.9340\n",
      "Epoch 75/100\n",
      "100/100 [==============================] - 31s 308ms/step - loss: 0.0297 - acc: 0.9871 - val_loss: 0.2330 - val_acc: 0.9430\n",
      "Epoch 76/100\n",
      "100/100 [==============================] - 32s 322ms/step - loss: 0.0160 - acc: 0.9946 - val_loss: 0.2424 - val_acc: 0.9370\n",
      "Epoch 77/100\n",
      "100/100 [==============================] - 31s 305ms/step - loss: 0.0232 - acc: 0.9899 - val_loss: 0.2754 - val_acc: 0.9350\n",
      "Epoch 78/100\n",
      "100/100 [==============================] - 31s 308ms/step - loss: 0.0211 - acc: 0.9944 - val_loss: 0.2149 - val_acc: 0.9420\n",
      "Epoch 79/100\n",
      "100/100 [==============================] - 31s 309ms/step - loss: 0.0143 - acc: 0.9937 - val_loss: 0.2413 - val_acc: 0.9360\n",
      "Epoch 80/100\n",
      "100/100 [==============================] - 32s 319ms/step - loss: 0.0209 - acc: 0.9936 - val_loss: 0.3629 - val_acc: 0.9300\n",
      "Epoch 81/100\n",
      "100/100 [==============================] - 31s 313ms/step - loss: 0.0204 - acc: 0.9935 - val_loss: 0.3014 - val_acc: 0.9320\n",
      "Epoch 82/100\n",
      "100/100 [==============================] - 32s 317ms/step - loss: 0.0214 - acc: 0.9924 - val_loss: 0.3437 - val_acc: 0.9370\n",
      "Epoch 83/100\n",
      "100/100 [==============================] - 32s 323ms/step - loss: 0.0215 - acc: 0.9931 - val_loss: 0.3284 - val_acc: 0.9310\n",
      "Epoch 84/100\n",
      "100/100 [==============================] - 33s 327ms/step - loss: 0.0283 - acc: 0.9923 - val_loss: 0.2578 - val_acc: 0.9410\n",
      "Epoch 85/100\n",
      "100/100 [==============================] - 33s 328ms/step - loss: 0.0373 - acc: 0.9887 - val_loss: 0.3626 - val_acc: 0.9320\n",
      "Epoch 86/100\n",
      "100/100 [==============================] - 33s 331ms/step - loss: 0.0302 - acc: 0.9901 - val_loss: 0.4134 - val_acc: 0.9230\n",
      "Epoch 87/100\n",
      "100/100 [==============================] - 33s 326ms/step - loss: 0.0305 - acc: 0.9874 - val_loss: 0.3296 - val_acc: 0.9280\n",
      "Epoch 88/100\n",
      "100/100 [==============================] - 34s 341ms/step - loss: 0.0308 - acc: 0.9909 - val_loss: 0.2528 - val_acc: 0.9350\n",
      "Epoch 89/100\n",
      "100/100 [==============================] - 33s 332ms/step - loss: 0.0168 - acc: 0.9918 - val_loss: 0.2801 - val_acc: 0.9340\n",
      "Epoch 90/100\n",
      "100/100 [==============================] - 34s 339ms/step - loss: 0.0126 - acc: 0.9967 - val_loss: 0.2699 - val_acc: 0.9310\n",
      "Epoch 91/100\n",
      "100/100 [==============================] - 34s 338ms/step - loss: 0.0224 - acc: 0.9923 - val_loss: 0.2722 - val_acc: 0.9430\n",
      "Epoch 92/100\n",
      "100/100 [==============================] - 34s 342ms/step - loss: 0.0259 - acc: 0.9907 - val_loss: 0.3108 - val_acc: 0.9340\n",
      "Epoch 93/100\n",
      "100/100 [==============================] - 35s 346ms/step - loss: 0.0160 - acc: 0.9929 - val_loss: 0.3657 - val_acc: 0.9310\n",
      "Epoch 94/100\n",
      "100/100 [==============================] - 35s 348ms/step - loss: 0.0219 - acc: 0.9928 - val_loss: 0.2618 - val_acc: 0.9360\n",
      "Epoch 95/100\n",
      "100/100 [==============================] - 35s 351ms/step - loss: 0.0158 - acc: 0.9953 - val_loss: 0.3680 - val_acc: 0.9320\n",
      "Epoch 96/100\n",
      "100/100 [==============================] - 36s 356ms/step - loss: 0.0234 - acc: 0.9920 - val_loss: 0.3000 - val_acc: 0.9310\n",
      "Epoch 97/100\n",
      "100/100 [==============================] - 36s 360ms/step - loss: 0.0306 - acc: 0.9893 - val_loss: 0.2454 - val_acc: 0.9440\n",
      "Epoch 98/100\n",
      "100/100 [==============================] - 36s 354ms/step - loss: 0.0219 - acc: 0.9928 - val_loss: 0.2762 - val_acc: 0.9420\n",
      "Epoch 99/100\n",
      "100/100 [==============================] - 36s 361ms/step - loss: 0.0140 - acc: 0.9964 - val_loss: 0.3527 - val_acc: 0.9330\n",
      "Epoch 100/100\n",
      "100/100 [==============================] - 37s 369ms/step - loss: 0.0179 - acc: 0.9919 - val_loss: 0.2939 - val_acc: 0.9390\n"
     ]
    }
   ],
   "source": [
    "model.compile(loss='binary_crossentropy',\n",
    "              optimizer=optimizers.RMSprop(lr=1e-5),\n",
    "              metrics=['acc'])\n",
    "\n",
    "history = model.fit_generator(\n",
    "      train_generator,\n",
    "      steps_per_epoch=100,\n",
    "      epochs=100,\n",
    "      validation_data=validation_generator,\n",
    "      validation_steps=50)"
   ]
  },
  {
   "cell_type": "code",
   "execution_count": 24,
   "metadata": {},
   "outputs": [],
   "source": [
    "model.save('cat_and_dogs_small_4.h5')"
   ]
  },
  {
   "cell_type": "markdown",
   "metadata": {},
   "source": [
    "Let's plot our results using the same plotting code as before:"
   ]
  },
  {
   "cell_type": "code",
   "execution_count": 26,
   "metadata": {},
   "outputs": [
    {
     "data": {
      "text/plain": [
       "<matplotlib.legend.Legend at 0x1d0367032b0>"
      ]
     },
     "execution_count": 26,
     "metadata": {},
     "output_type": "execute_result"
    },
    {
     "data": {
      "image/png": "[encoded data removed]",
      "text/plain": [
       "<Figure size 432x288 with 1 Axes>"
      ]
     },
     "metadata": {
      "needs_background": "light"
     },
     "output_type": "display_data"
    },
    {
     "data": {
      "image/png": "[encoded data removed]",
      "text/plain": [
       "<Figure size 432x288 with 1 Axes>"
      ]
     },
     "metadata": {
      "needs_background": "light"
     },
     "output_type": "display_data"
    }
   ],
   "source": [
    "acc = history.history['acc']\n",
    "val_acc = history.history['val_acc']\n",
    "loss = history.history['loss']\n",
    "val_loss = history.history['val_loss']\n",
    "\n",
    "epochs = range(len(acc))\n",
    "\n",
    "plt.plot(epochs, acc, 'bo', label='Training acc')\n",
    "plt.plot(epochs, val_acc, 'b', label='Validation acc')\n",
    "plt.title('Training and validation accuracy')\n",
    "plt.legend()\n",
    "\n",
    "plt.figure()\n",
    "\n",
    "plt.plot(epochs, loss, 'bo', label='Training loss')\n",
    "plt.plot(epochs, val_loss, 'b', label='Validation loss')\n",
    "plt.title('Training and validation loss')\n",
    "plt.legend()\n"
   ]
  },
  {
   "cell_type": "markdown",
   "metadata": {},
   "source": [
    "\n",
    "These curves look very noisy. To make them more readable, we can smooth them by replacing every loss and accuracy with exponential moving \n",
    "averages of these quantities. Here's a trivial utility function to do this:"
   ]
  },
  {
   "cell_type": "code",
   "execution_count": 27,
   "metadata": {},
   "outputs": [
    {
     "data": {
      "text/plain": [
       "<matplotlib.legend.Legend at 0x1d0367edf70>"
      ]
     },
     "execution_count": 27,
     "metadata": {},
     "output_type": "execute_result"
    },
    {
     "data": {
      "image/png": "[encoded data removed]",
      "text/plain": [
       "<Figure size 432x288 with 1 Axes>"
      ]
     },
     "metadata": {
      "needs_background": "light"
     },
     "output_type": "display_data"
    },
    {
     "data": {
      "image/png": "[encoded data removed]",
      "text/plain": [
       "<Figure size 432x288 with 1 Axes>"
      ]
     },
     "metadata": {
      "needs_background": "light"
     },
     "output_type": "display_data"
    }
   ],
   "source": [
    "def smooth_curve(points, factor=0.8):\n",
    "  smoothed_points = []\n",
    "  for point in points:\n",
    "    if smoothed_points:\n",
    "      previous = smoothed_points[-1]\n",
    "      smoothed_points.append(previous * factor + point * (1 - factor))\n",
    "    else:\n",
    "      smoothed_points.append(point)\n",
    "  return smoothed_points\n",
    "\n",
    "plt.plot(epochs,\n",
    "         smooth_curve(acc), 'bo', label='Smoothed training acc')\n",
    "plt.plot(epochs,\n",
    "         smooth_curve(val_acc), 'b', label='Smoothed validation acc')\n",
    "plt.title('Training and validation accuracy')\n",
    "plt.legend()\n",
    "\n",
    "plt.figure()\n",
    "\n",
    "plt.plot(epochs,\n",
    "         smooth_curve(loss), 'bo', label='Smoothed training loss')\n",
    "plt.plot(epochs,\n",
    "         smooth_curve(val_loss), 'b', label='Smoothed validation loss')\n",
    "plt.title('Training and validation loss')\n",
    "plt.legend()\n"
   ]
  },
  {
   "cell_type": "code",
   "execution_count": 28,
   "metadata": {},
   "outputs": [
    {
     "name": "stdout",
     "output_type": "stream",
     "text": [
      "Found 1000 images belonging to 2 classes.\n"
     ]
    },
    {
     "name": "stderr",
     "output_type": "stream",
     "text": [
      "C:\\Users\\msi-pc\\.conda\\envs\\tf24\\lib\\site-packages\\tensorflow\\python\\keras\\engine\\training.py:1877: UserWarning: `Model.evaluate_generator` is deprecated and will be removed in a future version. Please use `Model.evaluate`, which supports generators.\n",
      "  warnings.warn('`Model.evaluate_generator` is deprecated and '\n"
     ]
    },
    {
     "name": "stdout",
     "output_type": "stream",
     "text": [
      "test acc: 0.9369999766349792\n"
     ]
    }
   ],
   "source": [
    "test_generator = test_datagen.flow_from_directory(\n",
    "        test_dir,\n",
    "        target_size=(150, 150),\n",
    "        batch_size=20,\n",
    "        class_mode='binary')\n",
    "\n",
    "test_loss, test_acc = model.evaluate_generator(test_generator, steps=50)\n",
    "print('test acc:', test_acc)"
   ]
  },
  {
   "cell_type": "markdown",
   "metadata": {},
   "source": [
    "## Contact me"
   ]
  },
  {
   "cell_type": "markdown",
   "metadata": {},
   "source": [
    "### LinkedIn Account\n",
    "https://www.linkedin.com/in/mohammed-behjoo-446098b7/\n",
    "\n",
    "\n",
    "### YouTube Channel\n",
    "https://www.youtube.com/channel/UCudI0gvPh-YbiY2zLM7im-w\n",
    "\n",
    "\n",
    "### GitHub\n",
    "https://github.com/mohammedbehjoo"
   ]
  },
  {
   "cell_type": "code",
   "execution_count": null,
   "metadata": {},
   "outputs": [],
   "source": []
  }
 ],
 "metadata": {
  "kernelspec": {
   "display_name": "Python [conda env:.conda-tf24]",
   "language": "python",
   "name": "conda-env-.conda-tf24-py"
  },
  "language_info": {
   "codemirror_mode": {
    "name": "ipython",
    "version": 3
   },
   "file_extension": ".py",
   "mimetype": "text/x-python",
   "name": "python",
   "nbconvert_exporter": "python",
   "pygments_lexer": "ipython3",
   "version": "3.8.5"
  }
 },
 "nbformat": 4,
 "nbformat_minor": 2
}
