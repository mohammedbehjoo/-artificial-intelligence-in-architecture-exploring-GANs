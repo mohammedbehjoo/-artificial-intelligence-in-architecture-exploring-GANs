{
 "cells": [
  {
   "cell_type": "markdown",
   "metadata": {},
   "source": [
    "# Overfitting and underfitting\n"
   ]
  },
  {
   "cell_type": "markdown",
   "metadata": {},
   "source": [
    "Note: in this notebook we will be using the IMDB test set as our validation set. It doesn't matter in this context."
   ]
  },
  {
   "cell_type": "code",
   "execution_count": 1,
   "metadata": {},
   "outputs": [
    {
     "name": "stderr",
     "output_type": "stream",
     "text": [
      "<__array_function__ internals>:5: VisibleDeprecationWarning: Creating an ndarray from ragged nested sequences (which is a list-or-tuple of lists-or-tuples-or ndarrays with different lengths or shapes) is deprecated. If you meant to do this, you must specify 'dtype=object' when creating the ndarray\n",
      "C:\\Users\\msi-pc\\.conda\\envs\\tf24\\lib\\site-packages\\tensorflow\\python\\keras\\datasets\\imdb.py:159: VisibleDeprecationWarning: Creating an ndarray from ragged nested sequences (which is a list-or-tuple of lists-or-tuples-or ndarrays with different lengths or shapes) is deprecated. If you meant to do this, you must specify 'dtype=object' when creating the ndarray\n",
      "  x_train, y_train = np.array(xs[:idx]), np.array(labels[:idx])\n",
      "C:\\Users\\msi-pc\\.conda\\envs\\tf24\\lib\\site-packages\\tensorflow\\python\\keras\\datasets\\imdb.py:160: VisibleDeprecationWarning: Creating an ndarray from ragged nested sequences (which is a list-or-tuple of lists-or-tuples-or ndarrays with different lengths or shapes) is deprecated. If you meant to do this, you must specify 'dtype=object' when creating the ndarray\n",
      "  x_test, y_test = np.array(xs[idx:]), np.array(labels[idx:])\n"
     ]
    }
   ],
   "source": [
    "from tensorflow.keras.datasets import imdb\n",
    "import numpy as np\n",
    "\n",
    "(train_data, train_labels), (test_data, test_labels) = imdb.load_data(num_words=10000)\n",
    "\n",
    "def vectorize_sequences(sequences, dimension=10000):\n",
    "    # Create an all-zero matrix of shape (len(sequences), dimension)\n",
    "    results = np.zeros((len(sequences), dimension))\n",
    "    for i, sequence in enumerate(sequences):\n",
    "        results[i, sequence] = 1.  # set specific indices of results[i] to 1s\n",
    "    return results\n",
    "\n",
    "# Our vectorized training data\n",
    "x_train = vectorize_sequences(train_data)\n",
    "# Our vectorized test data\n",
    "x_test = vectorize_sequences(test_data)\n",
    "# Our vectorized labels\n",
    "y_train = np.asarray(train_labels).astype('float32')\n",
    "y_test = np.asarray(test_labels).astype('float32')"
   ]
  },
  {
   "cell_type": "markdown",
   "metadata": {},
   "source": [
    "# Fighting overfitting\n",
    "\n",
    "## Reducing the network's size"
   ]
  },
  {
   "cell_type": "code",
   "execution_count": 2,
   "metadata": {},
   "outputs": [],
   "source": [
    "from tensorflow.keras import models\n",
    "from tensorflow.keras import layers\n",
    "\n",
    "original_model = models.Sequential()\n",
    "original_model.add(layers.Dense(16, activation='relu', input_shape=(10000,)))\n",
    "original_model.add(layers.Dense(16, activation='relu'))\n",
    "original_model.add(layers.Dense(1, activation='sigmoid'))\n",
    "\n",
    "original_model.compile(optimizer='rmsprop',\n",
    "                       loss='binary_crossentropy',\n",
    "                       metrics=['acc'])"
   ]
  },
  {
   "cell_type": "markdown",
   "metadata": {},
   "source": [
    "Now let's try to replace it with this smaller network:"
   ]
  },
  {
   "cell_type": "code",
   "execution_count": 3,
   "metadata": {},
   "outputs": [],
   "source": [
    "smaller_model = models.Sequential()\n",
    "smaller_model.add(layers.Dense(4, activation='relu', input_shape=(10000,)))\n",
    "smaller_model.add(layers.Dense(4, activation='relu'))\n",
    "smaller_model.add(layers.Dense(1, activation='sigmoid'))\n",
    "\n",
    "smaller_model.compile(optimizer='rmsprop',\n",
    "                      loss='binary_crossentropy',\n",
    "                      metrics=['acc'])"
   ]
  },
  {
   "cell_type": "markdown",
   "metadata": {},
   "source": [
    "\n",
    "Here's a comparison of the validation losses of the original network and the smaller network. The dots are the validation loss values of \n",
    "the smaller network, and the crosses are the initial network (remember: a lower validation loss signals a better model)."
   ]
  },
  {
   "cell_type": "code",
   "execution_count": 4,
   "metadata": {},
   "outputs": [
    {
     "name": "stdout",
     "output_type": "stream",
     "text": [
      "Epoch 1/20\n",
      "49/49 [==============================] - 4s 57ms/step - loss: 0.5448 - acc: 0.7504 - val_loss: 0.3520 - val_acc: 0.8707\n",
      "Epoch 2/20\n",
      "49/49 [==============================] - 1s 24ms/step - loss: 0.2740 - acc: 0.9091 - val_loss: 0.3030 - val_acc: 0.8792\n",
      "Epoch 3/20\n",
      "49/49 [==============================] - 1s 25ms/step - loss: 0.2043 - acc: 0.9302 - val_loss: 0.2805 - val_acc: 0.8882\n",
      "Epoch 4/20\n",
      "49/49 [==============================] - 1s 25ms/step - loss: 0.1621 - acc: 0.9422 - val_loss: 0.2914 - val_acc: 0.8840\n",
      "Epoch 5/20\n",
      "49/49 [==============================] - 1s 23ms/step - loss: 0.1382 - acc: 0.9554 - val_loss: 0.3093 - val_acc: 0.8807\n",
      "Epoch 6/20\n",
      "49/49 [==============================] - 1s 23ms/step - loss: 0.1232 - acc: 0.9591 - val_loss: 0.3345 - val_acc: 0.8761\n",
      "Epoch 7/20\n",
      "49/49 [==============================] - 1s 23ms/step - loss: 0.1104 - acc: 0.9648 - val_loss: 0.3575 - val_acc: 0.8735\n",
      "Epoch 8/20\n",
      "49/49 [==============================] - 1s 24ms/step - loss: 0.0948 - acc: 0.9705 - val_loss: 0.3778 - val_acc: 0.8716\n",
      "Epoch 9/20\n",
      "49/49 [==============================] - 1s 23ms/step - loss: 0.0808 - acc: 0.9748 - val_loss: 0.4046 - val_acc: 0.8683\n",
      "Epoch 10/20\n",
      "49/49 [==============================] - 1s 23ms/step - loss: 0.0700 - acc: 0.9804 - val_loss: 0.4349 - val_acc: 0.8654\n",
      "Epoch 11/20\n",
      "49/49 [==============================] - 1s 24ms/step - loss: 0.0648 - acc: 0.9818 - val_loss: 0.4681 - val_acc: 0.8637\n",
      "Epoch 12/20\n",
      "49/49 [==============================] - 1s 24ms/step - loss: 0.0546 - acc: 0.9847 - val_loss: 0.4967 - val_acc: 0.8617\n",
      "Epoch 13/20\n",
      "49/49 [==============================] - 1s 24ms/step - loss: 0.0489 - acc: 0.9877 - val_loss: 0.5440 - val_acc: 0.8584\n",
      "Epoch 14/20\n",
      "49/49 [==============================] - 1s 24ms/step - loss: 0.0430 - acc: 0.9878 - val_loss: 0.5623 - val_acc: 0.8577\n",
      "Epoch 15/20\n",
      "49/49 [==============================] - 1s 24ms/step - loss: 0.0365 - acc: 0.9905 - val_loss: 0.5974 - val_acc: 0.8538\n",
      "Epoch 16/20\n",
      "49/49 [==============================] - 1s 24ms/step - loss: 0.0315 - acc: 0.9917 - val_loss: 0.6352 - val_acc: 0.8543\n",
      "Epoch 17/20\n",
      "49/49 [==============================] - 1s 24ms/step - loss: 0.0269 - acc: 0.9930 - val_loss: 0.6766 - val_acc: 0.8516\n",
      "Epoch 18/20\n",
      "49/49 [==============================] - 1s 23ms/step - loss: 0.0230 - acc: 0.9949 - val_loss: 0.7157 - val_acc: 0.8516\n",
      "Epoch 19/20\n",
      "49/49 [==============================] - 1s 24ms/step - loss: 0.0201 - acc: 0.9951 - val_loss: 0.7574 - val_acc: 0.8522\n",
      "Epoch 20/20\n",
      "49/49 [==============================] - 1s 24ms/step - loss: 0.0169 - acc: 0.9959 - val_loss: 0.8076 - val_acc: 0.8512\n"
     ]
    }
   ],
   "source": [
    "original_hist = original_model.fit(x_train, y_train,\n",
    "                                   epochs=20,\n",
    "                                   batch_size=512,\n",
    "                                   validation_data=(x_test, y_test))"
   ]
  },
  {
   "cell_type": "code",
   "execution_count": 5,
   "metadata": {},
   "outputs": [
    {
     "name": "stdout",
     "output_type": "stream",
     "text": [
      "Epoch 1/20\n",
      "49/49 [==============================] - 3s 46ms/step - loss: 0.5779 - acc: 0.7464 - val_loss: 0.4214 - val_acc: 0.8613\n",
      "Epoch 2/20\n",
      "49/49 [==============================] - 1s 24ms/step - loss: 0.3644 - acc: 0.8863 - val_loss: 0.3348 - val_acc: 0.8807\n",
      "Epoch 3/20\n",
      "49/49 [==============================] - 1s 24ms/step - loss: 0.2731 - acc: 0.9134 - val_loss: 0.2967 - val_acc: 0.8878\n",
      "Epoch 4/20\n",
      "49/49 [==============================] - 1s 25ms/step - loss: 0.2223 - acc: 0.9293 - val_loss: 0.2819 - val_acc: 0.8894\n",
      "Epoch 5/20\n",
      "49/49 [==============================] - 1s 24ms/step - loss: 0.1893 - acc: 0.9366 - val_loss: 0.2806 - val_acc: 0.8879\n",
      "Epoch 6/20\n",
      "49/49 [==============================] - 1s 24ms/step - loss: 0.1696 - acc: 0.9444 - val_loss: 0.2908 - val_acc: 0.8835\n",
      "Epoch 7/20\n",
      "49/49 [==============================] - 1s 24ms/step - loss: 0.1507 - acc: 0.9514 - val_loss: 0.2903 - val_acc: 0.8854\n",
      "Epoch 8/20\n",
      "49/49 [==============================] - 1s 24ms/step - loss: 0.1368 - acc: 0.9575 - val_loss: 0.2974 - val_acc: 0.8835\n",
      "Epoch 9/20\n",
      "49/49 [==============================] - 1s 24ms/step - loss: 0.1213 - acc: 0.9633 - val_loss: 0.3086 - val_acc: 0.8822\n",
      "Epoch 10/20\n",
      "49/49 [==============================] - 1s 24ms/step - loss: 0.1114 - acc: 0.9664 - val_loss: 0.3206 - val_acc: 0.8798\n",
      "Epoch 11/20\n",
      "49/49 [==============================] - 1s 24ms/step - loss: 0.1032 - acc: 0.9673 - val_loss: 0.3374 - val_acc: 0.8757\n",
      "Epoch 12/20\n",
      "49/49 [==============================] - 1s 23ms/step - loss: 0.0990 - acc: 0.9697 - val_loss: 0.3583 - val_acc: 0.8706\n",
      "Epoch 13/20\n",
      "49/49 [==============================] - 1s 23ms/step - loss: 0.0883 - acc: 0.9751 - val_loss: 0.3629 - val_acc: 0.8730\n",
      "Epoch 14/20\n",
      "49/49 [==============================] - 1s 24ms/step - loss: 0.0838 - acc: 0.9764 - val_loss: 0.3845 - val_acc: 0.8705\n",
      "Epoch 15/20\n",
      "49/49 [==============================] - 1s 24ms/step - loss: 0.0748 - acc: 0.9804 - val_loss: 0.4057 - val_acc: 0.8644\n",
      "Epoch 16/20\n",
      "49/49 [==============================] - 1s 24ms/step - loss: 0.0694 - acc: 0.9813 - val_loss: 0.4136 - val_acc: 0.8658\n",
      "Epoch 17/20\n",
      "49/49 [==============================] - 1s 24ms/step - loss: 0.0626 - acc: 0.9827 - val_loss: 0.4306 - val_acc: 0.8649\n",
      "Epoch 18/20\n",
      "49/49 [==============================] - 1s 24ms/step - loss: 0.0564 - acc: 0.9868 - val_loss: 0.4493 - val_acc: 0.8642\n",
      "Epoch 19/20\n",
      "49/49 [==============================] - 1s 23ms/step - loss: 0.0542 - acc: 0.9855 - val_loss: 0.4704 - val_acc: 0.8624\n",
      "Epoch 20/20\n",
      "49/49 [==============================] - 1s 24ms/step - loss: 0.0461 - acc: 0.9891 - val_loss: 0.4917 - val_acc: 0.8597\n"
     ]
    }
   ],
   "source": [
    "smaller_model_hist = smaller_model.fit(x_train, y_train,\n",
    "                                       epochs=20,\n",
    "                                       batch_size=512,\n",
    "                                       validation_data=(x_test, y_test))"
   ]
  },
  {
   "cell_type": "code",
   "execution_count": 6,
   "metadata": {},
   "outputs": [],
   "source": [
    "epochs = range(1, 21)\n",
    "original_val_loss = original_hist.history['val_loss']\n",
    "smaller_model_val_loss = smaller_model_hist.history['val_loss']"
   ]
  },
  {
   "cell_type": "code",
   "execution_count": 7,
   "metadata": {},
   "outputs": [
    {
     "data": {
      "image/png": "[encoded data removed]",
      "text/plain": [
       "<Figure size 432x288 with 1 Axes>"
      ]
     },
     "metadata": {
      "needs_background": "light"
     },
     "output_type": "display_data"
    }
   ],
   "source": [
    "import matplotlib.pyplot as plt\n",
    "\n",
    "# b+ is for \"blue cross\"\n",
    "plt.plot(epochs, original_val_loss, 'b+', label='Original model')\n",
    "# \"bo\" is for \"blue dot\"\n",
    "plt.plot(epochs, smaller_model_val_loss, 'bo', label='Smaller model')\n",
    "plt.xlabel('Epochs')\n",
    "plt.ylabel('Validation loss')\n",
    "plt.legend()\n"
   ]
  },
  {
   "cell_type": "markdown",
   "metadata": {},
   "source": [
    "6 epochs vs 4 epochs"
   ]
  },
  {
   "cell_type": "code",
   "execution_count": 8,
   "metadata": {},
   "outputs": [],
   "source": [
    "bigger_model = models.Sequential()\n",
    "bigger_model.add(layers.Dense(512, activation='relu', input_shape=(10000,)))\n",
    "bigger_model.add(layers.Dense(512, activation='relu'))\n",
    "bigger_model.add(layers.Dense(1, activation='sigmoid'))\n",
    "\n",
    "bigger_model.compile(optimizer='rmsprop',\n",
    "                     loss='binary_crossentropy',\n",
    "                     metrics=['acc'])"
   ]
  },
  {
   "cell_type": "code",
   "execution_count": 12,
   "metadata": {},
   "outputs": [
    {
     "name": "stdout",
     "output_type": "stream",
     "text": [
      "Train on 25000 samples, validate on 25000 samples\n",
      "Epoch 1/20\n",
      "25000/25000 [==============================] - 3s - loss: 0.4539 - acc: 0.8011 - val_loss: 0.4150 - val_acc: 0.8229\n",
      "Epoch 2/20\n",
      "25000/25000 [==============================] - 3s - loss: 0.2148 - acc: 0.9151 - val_loss: 0.2742 - val_acc: 0.8901\n",
      "Epoch 3/20\n",
      "25000/25000 [==============================] - 3s - loss: 0.1217 - acc: 0.9544 - val_loss: 0.5442 - val_acc: 0.7975\n",
      "Epoch 4/20\n",
      "25000/25000 [==============================] - 3s - loss: 0.0552 - acc: 0.9835 - val_loss: 0.4316 - val_acc: 0.8842\n",
      "Epoch 5/20\n",
      "25000/25000 [==============================] - 3s - loss: 0.0662 - acc: 0.9888 - val_loss: 0.5098 - val_acc: 0.8822\n",
      "Epoch 6/20\n",
      "25000/25000 [==============================] - 3s - loss: 0.0017 - acc: 0.9998 - val_loss: 0.6867 - val_acc: 0.8811\n",
      "Epoch 7/20\n",
      "25000/25000 [==============================] - 3s - loss: 0.1019 - acc: 0.9882 - val_loss: 0.6737 - val_acc: 0.8800\n",
      "Epoch 8/20\n",
      "25000/25000 [==============================] - 3s - loss: 0.0735 - acc: 0.9896 - val_loss: 0.6185 - val_acc: 0.8772\n",
      "Epoch 9/20\n",
      "25000/25000 [==============================] - 3s - loss: 3.4759e-04 - acc: 1.0000 - val_loss: 0.7328 - val_acc: 0.8818\n",
      "Epoch 10/20\n",
      "25000/25000 [==============================] - 3s - loss: 0.0504 - acc: 0.9912 - val_loss: 0.7092 - val_acc: 0.8791\n",
      "Epoch 11/20\n",
      "25000/25000 [==============================] - 3s - loss: 0.0589 - acc: 0.9919 - val_loss: 0.6831 - val_acc: 0.8785\n",
      "Epoch 12/20\n",
      "25000/25000 [==============================] - 3s - loss: 1.9067e-04 - acc: 1.0000 - val_loss: 0.8005 - val_acc: 0.8784\n",
      "Epoch 13/20\n",
      "25000/25000 [==============================] - 3s - loss: 0.0623 - acc: 0.9916 - val_loss: 0.7540 - val_acc: 0.8740\n",
      "Epoch 14/20\n",
      "25000/25000 [==============================] - 3s - loss: 0.0274 - acc: 0.9954 - val_loss: 0.7806 - val_acc: 0.8670\n",
      "Epoch 15/20\n",
      "25000/25000 [==============================] - 3s - loss: 0.0011 - acc: 0.9998 - val_loss: 0.8107 - val_acc: 0.8783\n",
      "Epoch 16/20\n",
      "25000/25000 [==============================] - 3s - loss: 0.0445 - acc: 0.9943 - val_loss: 0.8394 - val_acc: 0.8702\n",
      "Epoch 17/20\n",
      "25000/25000 [==============================] - 3s - loss: 0.0268 - acc: 0.9959 - val_loss: 0.7708 - val_acc: 0.8745\n",
      "Epoch 18/20\n",
      "25000/25000 [==============================] - 3s - loss: 7.7057e-04 - acc: 1.0000 - val_loss: 0.8885 - val_acc: 0.8738\n",
      "Epoch 19/20\n",
      "25000/25000 [==============================] - 3s - loss: 0.0297 - acc: 0.9962 - val_loss: 0.8419 - val_acc: 0.8728\n",
      "Epoch 20/20\n",
      "25000/25000 [==============================] - 3s - loss: 0.0018 - acc: 0.9998 - val_loss: 0.8896 - val_acc: 0.8682\n"
     ]
    }
   ],
   "source": [
    "bigger_model_hist = bigger_model.fit(x_train, y_train,\n",
    "                                     epochs=20,\n",
    "                                     batch_size=512,\n",
    "                                     validation_data=(x_test, y_test))"
   ]
  },
  {
   "cell_type": "markdown",
   "metadata": {},
   "source": [
    "Here's how the bigger network fares compared to the reference one. The dots are the validation loss values of the bigger network, and the \n",
    "crosses are the initial network."
   ]
  },
  {
   "cell_type": "code",
   "execution_count": 26,
   "metadata": {},
   "outputs": [
    {
     "data": {
      "image/png": "[encoded data removed]",
      "text/plain": [
       "<matplotlib.figure.Figure at 0x7f43c0fbcba8>"
      ]
     },
     "metadata": {},
     "output_type": "display_data"
    }
   ],
   "source": [
    "bigger_model_val_loss = bigger_model_hist.history['val_loss']\n",
    "\n",
    "plt.plot(epochs, original_val_loss, 'b+', label='Original model')\n",
    "plt.plot(epochs, bigger_model_val_loss, 'bo', label='Bigger model')\n",
    "plt.xlabel('Epochs')\n",
    "plt.ylabel('Validation loss')\n",
    "plt.legend()"
   ]
  },
  {
   "cell_type": "markdown",
   "metadata": {},
   "source": [
    "after just 1 epoch, bigger network starts to overfit"
   ]
  },
  {
   "cell_type": "code",
   "execution_count": 28,
   "metadata": {},
   "outputs": [
    {
     "data": {
      "image/png": "[encoded data removed]",
      "text/plain": [
       "<matplotlib.figure.Figure at 0x7f43befc12e8>"
      ]
     },
     "metadata": {},
     "output_type": "display_data"
    }
   ],
   "source": [
    "original_train_loss = original_hist.history['loss']\n",
    "bigger_model_train_loss = bigger_model_hist.history['loss']\n",
    "\n",
    "plt.plot(epochs, original_train_loss, 'b+', label='Original model')\n",
    "plt.plot(epochs, bigger_model_train_loss, 'bo', label='Bigger model')\n",
    "plt.xlabel('Epochs')\n",
    "plt.ylabel('Training loss')\n",
    "plt.legend()\n"
   ]
  },
  {
   "cell_type": "markdown",
   "metadata": {},
   "source": [
    "As you can see, the bigger network gets its training loss near zero very quickly. The more capacity the network has, the quicker it will be \n",
    "able to model the training data (resulting in a low training loss), but the more susceptible it is to overfitting (resulting in a large \n",
    "difference between the training and validation loss)."
   ]
  },
  {
   "cell_type": "markdown",
   "metadata": {},
   "source": [
    "## Adding weight regularization"
   ]
  },
  {
   "cell_type": "code",
   "execution_count": 17,
   "metadata": {
    "collapsed": true
   },
   "outputs": [],
   "source": [
    "from tensorflow.keras import regularizers\n",
    "\n",
    "l2_model = models.Sequential()\n",
    "l2_model.add(layers.Dense(16, kernel_regularizer=regularizers.l2(0.001),\n",
    "                          activation='relu', input_shape=(10000,)))\n",
    "l2_model.add(layers.Dense(16, kernel_regularizer=regularizers.l2(0.001),\n",
    "                          activation='relu'))\n",
    "l2_model.add(layers.Dense(1, activation='sigmoid'))"
   ]
  },
  {
   "cell_type": "code",
   "execution_count": 18,
   "metadata": {
    "collapsed": true
   },
   "outputs": [],
   "source": [
    "l2_model.compile(optimizer='rmsprop',\n",
    "                 loss='binary_crossentropy',\n",
    "                 metrics=['acc'])"
   ]
  },
  {
   "cell_type": "code",
   "execution_count": 19,
   "metadata": {},
   "outputs": [
    {
     "name": "stdout",
     "output_type": "stream",
     "text": [
      "Train on 25000 samples, validate on 25000 samples\n",
      "Epoch 1/20\n",
      "25000/25000 [==============================] - 3s - loss: 0.4880 - acc: 0.8218 - val_loss: 0.3820 - val_acc: 0.8798\n",
      "Epoch 2/20\n",
      "25000/25000 [==============================] - 2s - loss: 0.3162 - acc: 0.9068 - val_loss: 0.3353 - val_acc: 0.8896\n",
      "Epoch 3/20\n",
      "25000/25000 [==============================] - 2s - loss: 0.2742 - acc: 0.9185 - val_loss: 0.3306 - val_acc: 0.8898\n",
      "Epoch 4/20\n",
      "25000/25000 [==============================] - 2s - loss: 0.2489 - acc: 0.9288 - val_loss: 0.3363 - val_acc: 0.8866\n",
      "Epoch 5/20\n",
      "25000/25000 [==============================] - 2s - loss: 0.2420 - acc: 0.9318 - val_loss: 0.3492 - val_acc: 0.8820\n",
      "Epoch 6/20\n",
      "25000/25000 [==============================] - 2s - loss: 0.2322 - acc: 0.9359 - val_loss: 0.3567 - val_acc: 0.8788\n",
      "Epoch 7/20\n",
      "25000/25000 [==============================] - 2s - loss: 0.2254 - acc: 0.9385 - val_loss: 0.3632 - val_acc: 0.8787\n",
      "Epoch 8/20\n",
      "25000/25000 [==============================] - 2s - loss: 0.2219 - acc: 0.9380 - val_loss: 0.3630 - val_acc: 0.8794\n",
      "Epoch 9/20\n",
      "25000/25000 [==============================] - 2s - loss: 0.2162 - acc: 0.9430 - val_loss: 0.3704 - val_acc: 0.8763\n",
      "Epoch 10/20\n",
      "25000/25000 [==============================] - 2s - loss: 0.2144 - acc: 0.9428 - val_loss: 0.3876 - val_acc: 0.8727\n",
      "Epoch 11/20\n",
      "25000/25000 [==============================] - 2s - loss: 0.2091 - acc: 0.9439 - val_loss: 0.3883 - val_acc: 0.8724\n",
      "Epoch 12/20\n",
      "25000/25000 [==============================] - 2s - loss: 0.2061 - acc: 0.9455 - val_loss: 0.3870 - val_acc: 0.8740\n",
      "Epoch 13/20\n",
      "25000/25000 [==============================] - 2s - loss: 0.2069 - acc: 0.9445 - val_loss: 0.4073 - val_acc: 0.8714\n",
      "Epoch 14/20\n",
      "25000/25000 [==============================] - 2s - loss: 0.2028 - acc: 0.9475 - val_loss: 0.3976 - val_acc: 0.8714\n",
      "Epoch 15/20\n",
      "25000/25000 [==============================] - 2s - loss: 0.1998 - acc: 0.9472 - val_loss: 0.4362 - val_acc: 0.8670\n",
      "Epoch 16/20\n",
      "25000/25000 [==============================] - 2s - loss: 0.2019 - acc: 0.9462 - val_loss: 0.4088 - val_acc: 0.8711\n",
      "Epoch 17/20\n",
      "25000/25000 [==============================] - 2s - loss: 0.1953 - acc: 0.9495 - val_loss: 0.4185 - val_acc: 0.8698\n",
      "Epoch 18/20\n",
      "25000/25000 [==============================] - 2s - loss: 0.1945 - acc: 0.9508 - val_loss: 0.4371 - val_acc: 0.8674\n",
      "Epoch 19/20\n",
      "25000/25000 [==============================] - 2s - loss: 0.1934 - acc: 0.9486 - val_loss: 0.4136 - val_acc: 0.8699\n",
      "Epoch 20/20\n",
      "25000/25000 [==============================] - 2s - loss: 0.1924 - acc: 0.9504 - val_loss: 0.4200 - val_acc: 0.8704\n"
     ]
    }
   ],
   "source": [
    "l2_model_hist = l2_model.fit(x_train, y_train,\n",
    "                             epochs=20,\n",
    "                             batch_size=512,\n",
    "                             validation_data=(x_test, y_test))"
   ]
  },
  {
   "cell_type": "code",
   "execution_count": 30,
   "metadata": {},
   "outputs": [
    {
     "data": {
      "image/png": "[encoded data removed]",
      "text/plain": [
       "<matplotlib.figure.Figure at 0x7f43bef16c50>"
      ]
     },
     "metadata": {},
     "output_type": "display_data"
    }
   ],
   "source": [
    "l2_model_val_loss = l2_model_hist.history['val_loss']\n",
    "\n",
    "plt.plot(epochs, original_val_loss, 'b+', label='Original model')\n",
    "plt.plot(epochs, l2_model_val_loss, 'bo', label='L2-regularized model')\n",
    "plt.xlabel('Epochs')\n",
    "plt.ylabel('Validation loss')\n",
    "plt.legend()"
   ]
  },
  {
   "cell_type": "code",
   "execution_count": 9,
   "metadata": {},
   "outputs": [
    {
     "data": {
      "text/plain": [
       "<tensorflow.python.keras.regularizers.L1L2 at 0x1eb2cd116a0>"
      ]
     },
     "execution_count": 9,
     "metadata": {},
     "output_type": "execute_result"
    }
   ],
   "source": [
    "from tensorflow.keras import regularizers\n",
    "\n",
    "# L1 regularization\n",
    "regularizers.l1(0.001)\n",
    "\n",
    "# L1 and L2 regularization at the same time\n",
    "regularizers.l1_l2(l1=0.001, l2=0.001)"
   ]
  },
  {
   "cell_type": "markdown",
   "metadata": {},
   "source": [
    "## Adding dropout"
   ]
  },
  {
   "cell_type": "code",
   "execution_count": null,
   "metadata": {},
   "outputs": [],
   "source": [
    "model.add(layers.Dropout(0.5))"
   ]
  },
  {
   "cell_type": "markdown",
   "metadata": {},
   "source": [
    "Let's add two `Dropout` layers in our IMDB network to see how well they do at reducing overfitting:"
   ]
  },
  {
   "cell_type": "code",
   "execution_count": 12,
   "metadata": {},
   "outputs": [],
   "source": [
    "dpt_model = models.Sequential()\n",
    "dpt_model.add(layers.Dense(16, activation='relu', input_shape=(10000,)))\n",
    "dpt_model.add(layers.Dropout(0.5))\n",
    "dpt_model.add(layers.Dense(16, activation='relu'))\n",
    "dpt_model.add(layers.Dropout(0.5))\n",
    "dpt_model.add(layers.Dense(1, activation='sigmoid'))\n",
    "\n",
    "dpt_model.compile(optimizer='rmsprop',\n",
    "                  loss='binary_crossentropy',\n",
    "                  metrics=['acc'])"
   ]
  },
  {
   "cell_type": "code",
   "execution_count": 13,
   "metadata": {},
   "outputs": [
    {
     "name": "stdout",
     "output_type": "stream",
     "text": [
      "Epoch 1/20\n",
      "49/49 [==============================] - 3s 42ms/step - loss: 0.6382 - acc: 0.6241 - val_loss: 0.4432 - val_acc: 0.8664\n",
      "Epoch 2/20\n",
      "49/49 [==============================] - 1s 29ms/step - loss: 0.4580 - acc: 0.8150 - val_loss: 0.3464 - val_acc: 0.8804\n",
      "Epoch 3/20\n",
      "49/49 [==============================] - 1s 28ms/step - loss: 0.3689 - acc: 0.8715 - val_loss: 0.3058 - val_acc: 0.8868\n",
      "Epoch 4/20\n",
      "49/49 [==============================] - 1s 27ms/step - loss: 0.3138 - acc: 0.8987 - val_loss: 0.3021 - val_acc: 0.8848\n",
      "Epoch 5/20\n",
      "49/49 [==============================] - 1s 27ms/step - loss: 0.2668 - acc: 0.9176 - val_loss: 0.3037 - val_acc: 0.8844\n",
      "Epoch 6/20\n",
      "49/49 [==============================] - 1s 27ms/step - loss: 0.2396 - acc: 0.9274 - val_loss: 0.2959 - val_acc: 0.8868\n",
      "Epoch 7/20\n",
      "49/49 [==============================] - 1s 27ms/step - loss: 0.2079 - acc: 0.9355 - val_loss: 0.3129 - val_acc: 0.8854\n",
      "Epoch 8/20\n",
      "49/49 [==============================] - 1s 26ms/step - loss: 0.1947 - acc: 0.9388 - val_loss: 0.3218 - val_acc: 0.8839\n",
      "Epoch 9/20\n",
      "49/49 [==============================] - 1s 27ms/step - loss: 0.1753 - acc: 0.9457 - val_loss: 0.3506 - val_acc: 0.8819\n",
      "Epoch 10/20\n",
      "49/49 [==============================] - 1s 27ms/step - loss: 0.1649 - acc: 0.9510 - val_loss: 0.3706 - val_acc: 0.8817\n",
      "Epoch 11/20\n",
      "49/49 [==============================] - 1s 26ms/step - loss: 0.1556 - acc: 0.9518 - val_loss: 0.3887 - val_acc: 0.8777\n",
      "Epoch 12/20\n",
      "49/49 [==============================] - 1s 26ms/step - loss: 0.1448 - acc: 0.9560 - val_loss: 0.4065 - val_acc: 0.8769\n",
      "Epoch 13/20\n",
      "49/49 [==============================] - 1s 27ms/step - loss: 0.1320 - acc: 0.9603 - val_loss: 0.4557 - val_acc: 0.8775\n",
      "Epoch 14/20\n",
      "49/49 [==============================] - 1s 27ms/step - loss: 0.1296 - acc: 0.9611 - val_loss: 0.4902 - val_acc: 0.8753\n",
      "Epoch 15/20\n",
      "49/49 [==============================] - 1s 26ms/step - loss: 0.1226 - acc: 0.9613 - val_loss: 0.4798 - val_acc: 0.8740\n",
      "Epoch 16/20\n",
      "49/49 [==============================] - 1s 27ms/step - loss: 0.1167 - acc: 0.9656 - val_loss: 0.5425 - val_acc: 0.8751\n",
      "Epoch 17/20\n",
      "49/49 [==============================] - 1s 26ms/step - loss: 0.1165 - acc: 0.9669 - val_loss: 0.5700 - val_acc: 0.8728\n",
      "Epoch 18/20\n",
      "49/49 [==============================] - 1s 26ms/step - loss: 0.1115 - acc: 0.9672 - val_loss: 0.5750 - val_acc: 0.8729\n",
      "Epoch 19/20\n",
      "49/49 [==============================] - 1s 26ms/step - loss: 0.1088 - acc: 0.9695 - val_loss: 0.6186 - val_acc: 0.8740\n",
      "Epoch 20/20\n",
      "49/49 [==============================] - 1s 26ms/step - loss: 0.1082 - acc: 0.9691 - val_loss: 0.6044 - val_acc: 0.8710\n"
     ]
    }
   ],
   "source": [
    "dpt_model_hist = dpt_model.fit(x_train, y_train,\n",
    "                               epochs=20,\n",
    "                               batch_size=512,\n",
    "                               validation_data=(x_test, y_test))"
   ]
  },
  {
   "cell_type": "markdown",
   "metadata": {},
   "source": [
    "Let's plot the results:"
   ]
  },
  {
   "cell_type": "code",
   "execution_count": 14,
   "metadata": {},
   "outputs": [
    {
     "data": {
      "text/plain": [
       "<matplotlib.legend.Legend at 0x1eb2edeffd0>"
      ]
     },
     "execution_count": 14,
     "metadata": {},
     "output_type": "execute_result"
    },
    {
     "data": {
      "image/png": "[encoded data removed]",
      "text/plain": [
       "<Figure size 432x288 with 1 Axes>"
      ]
     },
     "metadata": {
      "needs_background": "light"
     },
     "output_type": "display_data"
    }
   ],
   "source": [
    "dpt_model_val_loss = dpt_model_hist.history['val_loss']\n",
    "\n",
    "plt.plot(epochs, original_val_loss, 'b+', label='Original model')\n",
    "plt.plot(epochs, dpt_model_val_loss, 'bo', label='Dropout-regularized model')\n",
    "plt.xlabel('Epochs')\n",
    "plt.ylabel('Valis')\n",
    "plt.legend()"
   ]
  },
  {
   "cell_type": "markdown",
   "metadata": {},
   "source": [
    "\n",
    "Again, a clear improvement over the reference network.\n",
    "\n",
    "To recap: here the most common ways to prevent overfitting in neural networks:\n",
    "\n",
    "* Getting more training data.\n",
    "* Reducing the capacity of the network.\n",
    "* Adding weight regularization.\n",
    "* Adding dropout."
   ]
  },
  {
   "cell_type": "markdown",
   "metadata": {},
   "source": [
    "## Contact me"
   ]
  },
  {
   "cell_type": "markdown",
   "metadata": {},
   "source": [
    "### LinkedIn Account\n",
    "https://www.linkedin.com/in/mohammed-behjoo-446098b7/\n",
    "\n",
    "\n",
    "### YouTube Channel\n",
    "https://www.youtube.com/channel/UCudI0gvPh-YbiY2zLM7im-w\n",
    "\n",
    "\n",
    "### GitHub\n",
    "https://github.com/mohammedbehjoo"
   ]
  },
  {
   "cell_type": "code",
   "execution_count": null,
   "metadata": {},
   "outputs": [],
   "source": []
  }
 ],
 "metadata": {
  "kernelspec": {
   "display_name": "Python [conda env:.conda-tf24]",
   "language": "python",
   "name": "conda-env-.conda-tf24-py"
  },
  "language_info": {
   "codemirror_mode": {
    "name": "ipython",
    "version": 3
   },
   "file_extension": ".py",
   "mimetype": "text/x-python",
   "name": "python",
   "nbconvert_exporter": "python",
   "pygments_lexer": "ipython3",
   "version": "3.8.5"
  }
 },
 "nbformat": 4,
 "nbformat_minor": 2
}
